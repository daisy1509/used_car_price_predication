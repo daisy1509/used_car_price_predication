{
 "cells": [
  {
   "cell_type": "markdown",
   "metadata": {},
   "source": [
    "# Used car price prediction using Catboost Regressor"
   ]
  },
  {
   "cell_type": "markdown",
   "metadata": {},
   "source": [
    "## imports"
   ]
  },
  {
   "cell_type": "code",
   "execution_count": 1,
   "metadata": {},
   "outputs": [],
   "source": [
    "import pandas as pd\n",
    "import numpy as np\n",
    "from sklearn.compose import ColumnTransformer\n",
    "from sklearn.preprocessing import OrdinalEncoder\n",
    "import matplotlib.pyplot as plt\n",
    "import seaborn as sns\n",
    "import datetime\n",
    "\n",
    "from sklearn.pipeline import Pipeline\n",
    "from sklearn.impute import SimpleImputer\n",
    "from sklearn.preprocessing import OrdinalEncoder\n",
    "from sklearn.preprocessing import OneHotEncoder\n",
    "from sklearn.preprocessing import MinMaxScaler\n",
    "from sklearn.compose import ColumnTransformer\n",
    "from sklearn.feature_selection import VarianceThreshold\n",
    "from sklearn.feature_selection import SelectFromModel\n",
    "from sklearn.tree import DecisionTreeRegressor\n",
    "from sklearn.linear_model import LinearRegression\n",
    "from sklearn.model_selection import GridSearchCV\n",
    "from sklearn import preprocessing\n",
    "from sklearn.pipeline import make_pipeline\n",
    "from sklearn import linear_model\n",
    "from sklearn.preprocessing import LabelEncoder\n",
    "from sklearn.model_selection import RandomizedSearchCV\n",
    "from sklearn.feature_extraction.text import CountVectorizer\n",
    "from sklearn.metrics import r2_score\n",
    "from sklearn.model_selection import train_test_split\n",
    "import matplotlib.pyplot as plt\n",
    "from scipy import stats\n",
    "from sklearn.linear_model import LogisticRegression\n",
    "from sklearn.metrics import accuracy_score\n",
    "from sklearn.ensemble import RandomForestRegressor \n",
    "from catboost import CatBoostRegressor\n",
    "from catboost import Pool\n",
    "from catboost import cv\n",
    "from sklearn.model_selection import StratifiedKFold\n",
    "from sklearn import metrics"
   ]
  },
  {
   "cell_type": "markdown",
   "metadata": {},
   "source": [
    "## Preprocessing"
   ]
  },
  {
   "cell_type": "code",
   "execution_count": 2,
   "metadata": {},
   "outputs": [],
   "source": [
    "dataset= pd.read_csv('C:/Users/prana/OneDrive/Документы/WBS/final_project/used_car_price_prediction/data/vehicles.csv')"
   ]
  },
  {
   "cell_type": "code",
   "execution_count": 3,
   "metadata": {},
   "outputs": [
    {
     "data": {
      "text/plain": [
       "(426880, 26)"
      ]
     },
     "execution_count": 3,
     "metadata": {},
     "output_type": "execute_result"
    }
   ],
   "source": [
    "dataset.shape"
   ]
  },
  {
   "cell_type": "markdown",
   "metadata": {},
   "source": [
    "Certain columns like ID, URL are irrelevant for this model."
   ]
  },
  {
   "cell_type": "code",
   "execution_count": 4,
   "metadata": {},
   "outputs": [],
   "source": [
    "non_related_columns = ['id', 'url' , 'region', 'region_url', 'VIN', 'image_url', 'county', 'state', 'lat', 'long', 'description']\n",
    "data = dataset.drop(columns= non_related_columns)"
   ]
  },
  {
   "cell_type": "code",
   "execution_count": 5,
   "metadata": {},
   "outputs": [
    {
     "data": {
      "text/plain": [
       "(426880, 15)"
      ]
     },
     "execution_count": 5,
     "metadata": {},
     "output_type": "execute_result"
    }
   ],
   "source": [
    "data.shape"
   ]
  },
  {
   "cell_type": "markdown",
   "metadata": {},
   "source": [
    "#todo We can convert regions occurying in less than 100 records to 'other', and then include region in the model."
   ]
  },
  {
   "cell_type": "code",
   "execution_count": 6,
   "metadata": {},
   "outputs": [
    {
     "data": {
      "text/plain": [
       "siskiyou county        83\n",
       "north platte           80\n",
       "clovis / portales      78\n",
       "ogden-clearfield       76\n",
       "eastern montana        75\n",
       "provo / orem           75\n",
       "western IL             63\n",
       "oneonta                62\n",
       "southwest MN           56\n",
       "pierre / central SD    55\n",
       "eastern CO             40\n",
       "southern WV            36\n",
       "st louis               35\n",
       "northeast SD           34\n",
       "southwest TX           30\n",
       "meridian               28\n",
       "southwest MS           14\n",
       "kansas city            11\n",
       "fort smith, AR          9\n",
       "west virginia (old)     8\n",
       "Name: region, dtype: int64"
      ]
     },
     "execution_count": 6,
     "metadata": {},
     "output_type": "execute_result"
    }
   ],
   "source": [
    "dataset['region'].value_counts().tail(20)"
   ]
  },
  {
   "cell_type": "markdown",
   "metadata": {},
   "source": [
    "Let us check for NANs"
   ]
  },
  {
   "cell_type": "code",
   "execution_count": 7,
   "metadata": {},
   "outputs": [
    {
     "data": {
      "text/plain": [
       "id                   0\n",
       "url                  0\n",
       "region               0\n",
       "region_url           0\n",
       "price                0\n",
       "year              1205\n",
       "manufacturer     17646\n",
       "model             5277\n",
       "condition       174104\n",
       "cylinders       177678\n",
       "fuel              3013\n",
       "odometer          4400\n",
       "title_status      8242\n",
       "transmission      2556\n",
       "VIN             161042\n",
       "drive           130567\n",
       "size            306361\n",
       "type             92858\n",
       "paint_color     130203\n",
       "image_url           68\n",
       "description         70\n",
       "county          426880\n",
       "state                0\n",
       "lat               6549\n",
       "long              6549\n",
       "posting_date        68\n",
       "dtype: int64"
      ]
     },
     "execution_count": 7,
     "metadata": {},
     "output_type": "execute_result"
    }
   ],
   "source": [
    "dataset.isna().sum()"
   ]
  },
  {
   "cell_type": "code",
   "execution_count": 8,
   "metadata": {},
   "outputs": [
    {
     "data": {
      "text/plain": [
       "price                0\n",
       "year              1205\n",
       "manufacturer     17646\n",
       "model             5277\n",
       "condition       174104\n",
       "cylinders       177678\n",
       "fuel              3013\n",
       "odometer          4400\n",
       "title_status      8242\n",
       "transmission      2556\n",
       "drive           130567\n",
       "size            306361\n",
       "type             92858\n",
       "paint_color     130203\n",
       "posting_date        68\n",
       "dtype: int64"
      ]
     },
     "execution_count": 8,
     "metadata": {},
     "output_type": "execute_result"
    }
   ],
   "source": [
    "data.isna().sum()"
   ]
  },
  {
   "cell_type": "markdown",
   "metadata": {},
   "source": [
    "It is not possible to interpolate NANs for certain features like Condition, Year and Odometer. Hence, deleting them."
   ]
  },
  {
   "cell_type": "code",
   "execution_count": 9,
   "metadata": {},
   "outputs": [],
   "source": [
    "data_v2 = data.dropna(subset =['condition', 'year', 'odometer'])"
   ]
  },
  {
   "cell_type": "code",
   "execution_count": 10,
   "metadata": {},
   "outputs": [
    {
     "data": {
      "text/plain": [
       "(250851, 15)"
      ]
     },
     "execution_count": 10,
     "metadata": {},
     "output_type": "execute_result"
    }
   ],
   "source": [
    "data_v2.shape"
   ]
  },
  {
   "cell_type": "code",
   "execution_count": 11,
   "metadata": {},
   "outputs": [
    {
     "data": {
      "text/plain": [
       "ford               37563\n",
       "chevrolet          32208\n",
       "toyota             20460\n",
       "honda              12835\n",
       "nissan             11015\n",
       "jeep               10442\n",
       "gmc                 9390\n",
       "bmw                 9155\n",
       "ram                 8144\n",
       "dodge               7590\n",
       "mercedes-benz       6560\n",
       "volkswagen          6232\n",
       "hyundai             5997\n",
       "subaru              5542\n",
       "lexus               5280\n",
       "audi                5217\n",
       "kia                 4912\n",
       "cadillac            4489\n",
       "acura               4477\n",
       "chrysler            3653\n",
       "buick               3640\n",
       "mazda               3591\n",
       "infiniti            3552\n",
       "lincoln             3049\n",
       "volvo               2475\n",
       "mitsubishi          2327\n",
       "mini                1598\n",
       "jaguar              1568\n",
       "pontiac             1484\n",
       "rover               1181\n",
       "mercury              839\n",
       "alfa-romeo           747\n",
       "porsche              733\n",
       "saturn               700\n",
       "tesla                668\n",
       "fiat                 566\n",
       "harley-davidson       84\n",
       "datsun                41\n",
       "ferrari               41\n",
       "aston-martin          12\n",
       "land rover            10\n",
       "morgan                 2\n",
       "Name: manufacturer, dtype: int64"
      ]
     },
     "execution_count": 11,
     "metadata": {},
     "output_type": "execute_result"
    }
   ],
   "source": [
    "data_v2['manufacturer'].value_counts()"
   ]
  },
  {
   "cell_type": "markdown",
   "metadata": {},
   "source": [
    "Dropping certain manufacturers, since not many records are available for them."
   ]
  },
  {
   "cell_type": "code",
   "execution_count": 12,
   "metadata": {},
   "outputs": [],
   "source": [
    "drop_manufacturer = ['tesla', 'fiat','harley-davidson', 'ferrari', 'datson', 'aston-martin', 'land rover', 'morgan', 'datsun']"
   ]
  },
  {
   "cell_type": "code",
   "execution_count": 13,
   "metadata": {},
   "outputs": [],
   "source": [
    "data_v2 = data_v2[~data_v2['manufacturer'].isin(drop_manufacturer)]"
   ]
  },
  {
   "cell_type": "code",
   "execution_count": 14,
   "metadata": {},
   "outputs": [],
   "source": [
    "def impute_feature_values(feature, manufacturer, model):\n",
    "    result = data_v2.loc[lambda df_ : ((df_['manufacturer'] == manufacturer) & (df_['model'] == model) & (~df_[feature].isna()))]\n",
    "    if result.shape[0] == 0:\n",
    "        return np.nan\n",
    "    return result.iloc[0,][feature]"
   ]
  },
  {
   "cell_type": "code",
   "execution_count": 15,
   "metadata": {},
   "outputs": [
    {
     "data": {
      "text/html": [
       "<div>\n",
       "<style scoped>\n",
       "    .dataframe tbody tr th:only-of-type {\n",
       "        vertical-align: middle;\n",
       "    }\n",
       "\n",
       "    .dataframe tbody tr th {\n",
       "        vertical-align: top;\n",
       "    }\n",
       "\n",
       "    .dataframe thead th {\n",
       "        text-align: right;\n",
       "    }\n",
       "</style>\n",
       "<table border=\"1\" class=\"dataframe\">\n",
       "  <thead>\n",
       "    <tr style=\"text-align: right;\">\n",
       "      <th></th>\n",
       "      <th>price</th>\n",
       "      <th>year</th>\n",
       "      <th>manufacturer</th>\n",
       "      <th>model</th>\n",
       "      <th>condition</th>\n",
       "      <th>cylinders</th>\n",
       "      <th>fuel</th>\n",
       "      <th>odometer</th>\n",
       "      <th>title_status</th>\n",
       "      <th>transmission</th>\n",
       "      <th>...</th>\n",
       "      <th>size</th>\n",
       "      <th>type</th>\n",
       "      <th>paint_color</th>\n",
       "      <th>posting_date</th>\n",
       "      <th>re_cylinders</th>\n",
       "      <th>re_fuel</th>\n",
       "      <th>re_transmission</th>\n",
       "      <th>re_drive</th>\n",
       "      <th>re_size</th>\n",
       "      <th>re_type</th>\n",
       "    </tr>\n",
       "  </thead>\n",
       "  <tbody>\n",
       "    <tr>\n",
       "      <th>27</th>\n",
       "      <td>33590</td>\n",
       "      <td>2014.0</td>\n",
       "      <td>gmc</td>\n",
       "      <td>sierra 1500 crew cab slt</td>\n",
       "      <td>good</td>\n",
       "      <td>8 cylinders</td>\n",
       "      <td>gas</td>\n",
       "      <td>57923.0</td>\n",
       "      <td>clean</td>\n",
       "      <td>other</td>\n",
       "      <td>...</td>\n",
       "      <td>NaN</td>\n",
       "      <td>pickup</td>\n",
       "      <td>white</td>\n",
       "      <td>2021-05-04T12:31:18-0500</td>\n",
       "      <td>8 cylinders</td>\n",
       "      <td>gas</td>\n",
       "      <td>other</td>\n",
       "      <td>rwd</td>\n",
       "      <td>full-size</td>\n",
       "      <td>pickup</td>\n",
       "    </tr>\n",
       "    <tr>\n",
       "      <th>28</th>\n",
       "      <td>22590</td>\n",
       "      <td>2010.0</td>\n",
       "      <td>chevrolet</td>\n",
       "      <td>silverado 1500</td>\n",
       "      <td>good</td>\n",
       "      <td>8 cylinders</td>\n",
       "      <td>gas</td>\n",
       "      <td>71229.0</td>\n",
       "      <td>clean</td>\n",
       "      <td>other</td>\n",
       "      <td>...</td>\n",
       "      <td>NaN</td>\n",
       "      <td>pickup</td>\n",
       "      <td>blue</td>\n",
       "      <td>2021-05-04T12:31:08-0500</td>\n",
       "      <td>8 cylinders</td>\n",
       "      <td>gas</td>\n",
       "      <td>other</td>\n",
       "      <td>rwd</td>\n",
       "      <td>full-size</td>\n",
       "      <td>pickup</td>\n",
       "    </tr>\n",
       "    <tr>\n",
       "      <th>29</th>\n",
       "      <td>39590</td>\n",
       "      <td>2020.0</td>\n",
       "      <td>chevrolet</td>\n",
       "      <td>silverado 1500 crew</td>\n",
       "      <td>good</td>\n",
       "      <td>8 cylinders</td>\n",
       "      <td>gas</td>\n",
       "      <td>19160.0</td>\n",
       "      <td>clean</td>\n",
       "      <td>other</td>\n",
       "      <td>...</td>\n",
       "      <td>NaN</td>\n",
       "      <td>pickup</td>\n",
       "      <td>red</td>\n",
       "      <td>2021-05-04T12:31:25-0500</td>\n",
       "      <td>8 cylinders</td>\n",
       "      <td>gas</td>\n",
       "      <td>other</td>\n",
       "      <td>rwd</td>\n",
       "      <td>full-size</td>\n",
       "      <td>pickup</td>\n",
       "    </tr>\n",
       "    <tr>\n",
       "      <th>30</th>\n",
       "      <td>30990</td>\n",
       "      <td>2017.0</td>\n",
       "      <td>toyota</td>\n",
       "      <td>tundra double cab sr</td>\n",
       "      <td>good</td>\n",
       "      <td>8 cylinders</td>\n",
       "      <td>gas</td>\n",
       "      <td>41124.0</td>\n",
       "      <td>clean</td>\n",
       "      <td>other</td>\n",
       "      <td>...</td>\n",
       "      <td>NaN</td>\n",
       "      <td>pickup</td>\n",
       "      <td>red</td>\n",
       "      <td>2021-05-04T10:41:31-0500</td>\n",
       "      <td>8 cylinders</td>\n",
       "      <td>gas</td>\n",
       "      <td>other</td>\n",
       "      <td>rwd</td>\n",
       "      <td>full-size</td>\n",
       "      <td>pickup</td>\n",
       "    </tr>\n",
       "    <tr>\n",
       "      <th>31</th>\n",
       "      <td>15000</td>\n",
       "      <td>2013.0</td>\n",
       "      <td>ford</td>\n",
       "      <td>f-150 xlt</td>\n",
       "      <td>excellent</td>\n",
       "      <td>6 cylinders</td>\n",
       "      <td>gas</td>\n",
       "      <td>128000.0</td>\n",
       "      <td>clean</td>\n",
       "      <td>automatic</td>\n",
       "      <td>...</td>\n",
       "      <td>full-size</td>\n",
       "      <td>truck</td>\n",
       "      <td>black</td>\n",
       "      <td>2021-05-03T14:02:03-0500</td>\n",
       "      <td>6 cylinders</td>\n",
       "      <td>gas</td>\n",
       "      <td>automatic</td>\n",
       "      <td>rwd</td>\n",
       "      <td>full-size</td>\n",
       "      <td>truck</td>\n",
       "    </tr>\n",
       "  </tbody>\n",
       "</table>\n",
       "<p>5 rows × 21 columns</p>\n",
       "</div>"
      ],
      "text/plain": [
       "    price    year manufacturer                     model  condition  \\\n",
       "27  33590  2014.0          gmc  sierra 1500 crew cab slt       good   \n",
       "28  22590  2010.0    chevrolet            silverado 1500       good   \n",
       "29  39590  2020.0    chevrolet       silverado 1500 crew       good   \n",
       "30  30990  2017.0       toyota      tundra double cab sr       good   \n",
       "31  15000  2013.0         ford                 f-150 xlt  excellent   \n",
       "\n",
       "      cylinders fuel  odometer title_status transmission  ...       size  \\\n",
       "27  8 cylinders  gas   57923.0        clean        other  ...        NaN   \n",
       "28  8 cylinders  gas   71229.0        clean        other  ...        NaN   \n",
       "29  8 cylinders  gas   19160.0        clean        other  ...        NaN   \n",
       "30  8 cylinders  gas   41124.0        clean        other  ...        NaN   \n",
       "31  6 cylinders  gas  128000.0        clean    automatic  ...  full-size   \n",
       "\n",
       "      type paint_color              posting_date re_cylinders re_fuel  \\\n",
       "27  pickup       white  2021-05-04T12:31:18-0500  8 cylinders     gas   \n",
       "28  pickup        blue  2021-05-04T12:31:08-0500  8 cylinders     gas   \n",
       "29  pickup         red  2021-05-04T12:31:25-0500  8 cylinders     gas   \n",
       "30  pickup         red  2021-05-04T10:41:31-0500  8 cylinders     gas   \n",
       "31   truck       black  2021-05-03T14:02:03-0500  6 cylinders     gas   \n",
       "\n",
       "   re_transmission re_drive    re_size re_type  \n",
       "27           other      rwd  full-size  pickup  \n",
       "28           other      rwd  full-size  pickup  \n",
       "29           other      rwd  full-size  pickup  \n",
       "30           other      rwd  full-size  pickup  \n",
       "31       automatic      rwd  full-size   truck  \n",
       "\n",
       "[5 rows x 21 columns]"
      ]
     },
     "execution_count": 15,
     "metadata": {},
     "output_type": "execute_result"
    }
   ],
   "source": [
    "data_v4=(\n",
    "    data_v2\n",
    "        .assign(re_cylinders = np.where(\n",
    "            data_v2['cylinders'].isna(),\n",
    "            impute_feature_values('cylinders', data_v2['manufacturer'],data_v2['model']),\n",
    "            data_v2['cylinders']\n",
    "        ))\n",
    "        .assign(re_fuel = np.where(\n",
    "            data_v2['fuel'].isna(),\n",
    "            impute_feature_values('fuel', data_v2['manufacturer'],data_v2['model']),\n",
    "            data_v2['fuel']\n",
    "        ))\n",
    "        .assign(re_transmission = np.where(\n",
    "            data_v2['transmission'].isna(),\n",
    "            impute_feature_values('transmission', data_v2['manufacturer'],data_v2['model']),\n",
    "            data_v2['transmission']\n",
    "        ))\n",
    "        .assign(re_drive = np.where(\n",
    "            data_v2['drive'].isna(),\n",
    "            impute_feature_values('drive', data_v2['manufacturer'],data_v2['model']),\n",
    "            data_v2['drive']\n",
    "        ))\n",
    "        .assign(re_size = np.where(\n",
    "            data_v2['size'].isna(),\n",
    "            impute_feature_values('size', data_v2['manufacturer'],data_v2['model']),\n",
    "            data_v2['size']\n",
    "        ))\n",
    "        .assign(re_type = np.where(\n",
    "            data_v2['type'].isna(),\n",
    "            impute_feature_values('type', data_v2['manufacturer'],data_v2['model']),\n",
    "            data_v2['type']\n",
    "        ))\n",
    ")\n",
    "data_v4.head()"
   ]
  },
  {
   "cell_type": "code",
   "execution_count": 16,
   "metadata": {},
   "outputs": [
    {
     "data": {
      "text/plain": [
       "price                   0\n",
       "year                    0\n",
       "manufacturer        10782\n",
       "model                2253\n",
       "condition               0\n",
       "cylinders           69611\n",
       "fuel                   16\n",
       "odometer                0\n",
       "title_status         5462\n",
       "transmission           34\n",
       "drive               60567\n",
       "size               153376\n",
       "type                32377\n",
       "paint_color         50733\n",
       "posting_date            0\n",
       "re_cylinders            0\n",
       "re_fuel                 0\n",
       "re_transmission         0\n",
       "re_drive                0\n",
       "re_size                 0\n",
       "re_type                 0\n",
       "dtype: int64"
      ]
     },
     "execution_count": 16,
     "metadata": {},
     "output_type": "execute_result"
    }
   ],
   "source": [
    "data_v4.isna().sum()"
   ]
  },
  {
   "cell_type": "markdown",
   "metadata": {},
   "source": [
    "Imputing NANs for Model is difficult, so let us just drop them. But let us try to impute NANs for Manufaturer using the Model and other details"
   ]
  },
  {
   "cell_type": "code",
   "execution_count": 17,
   "metadata": {},
   "outputs": [],
   "source": [
    "def find_manufacturer(model, cylinders, fuel, transmission, type):\n",
    "    result = data_v4.loc[lambda df_ : ((df_['model'] == model) & (df_['re_cylinders'] == cylinders) &(df_['re_fuel'] == fuel) &\n",
    "                                       (df_['re_transmission'] == transmission)&(df_['re_type'] == type) &\n",
    "                                       (~df_['manufacturer'].isna()))]\n",
    "    if result.shape[0] == 0:\n",
    "        return np.nan\n",
    "    return result.iloc[0,]['manufacturer']"
   ]
  },
  {
   "cell_type": "code",
   "execution_count": 18,
   "metadata": {},
   "outputs": [],
   "source": [
    "data_v5 =(\n",
    "    data_v4\n",
    "        .assign(re_manufacturer = np.where(\n",
    "            data_v4['manufacturer'].isna(),\n",
    "            find_manufacturer(data_v4['model'],data_v4['re_cylinders'], data_v4['re_fuel'], data_v4['re_transmission'], data_v4['re_type']),\n",
    "            data_v4['manufacturer']\n",
    "        ))\n",
    ")"
   ]
  },
  {
   "cell_type": "code",
   "execution_count": 19,
   "metadata": {},
   "outputs": [
    {
     "data": {
      "text/plain": [
       "Index(['price', 'year', 'manufacturer', 'model', 'condition', 'cylinders',\n",
       "       'fuel', 'odometer', 'title_status', 'transmission', 'drive', 'size',\n",
       "       'type', 'paint_color', 'posting_date', 're_cylinders', 're_fuel',\n",
       "       're_transmission', 're_drive', 're_size', 're_type', 're_manufacturer'],\n",
       "      dtype='object')"
      ]
     },
     "execution_count": 19,
     "metadata": {},
     "output_type": "execute_result"
    }
   ],
   "source": [
    "data_v5.columns"
   ]
  },
  {
   "cell_type": "markdown",
   "metadata": {},
   "source": [
    "Let us now drop NANs for Model and TitleStatus features"
   ]
  },
  {
   "cell_type": "code",
   "execution_count": 20,
   "metadata": {},
   "outputs": [],
   "source": [
    "data_v5.dropna(subset= ['model', 'title_status'], inplace=True)\n",
    "columns= ['price', 'year', 're_manufacturer', 'model', 'condition', 're_cylinders', 're_fuel', 'odometer', 'title_status', 're_transmission', 're_drive', 're_size', 're_type', 'posting_date' ,'paint_color']\n",
    "data_v6 = data_v5[columns]\n",
    "data_v6.columns = data_v6.columns.str.replace('re_', '')"
   ]
  },
  {
   "cell_type": "code",
   "execution_count": 21,
   "metadata": {},
   "outputs": [
    {
     "data": {
      "text/plain": [
       "price               0\n",
       "year                0\n",
       "manufacturer        0\n",
       "model               0\n",
       "condition           0\n",
       "cylinders           0\n",
       "fuel                0\n",
       "odometer            0\n",
       "title_status        0\n",
       "transmission        0\n",
       "drive               0\n",
       "size                0\n",
       "type                0\n",
       "posting_date        0\n",
       "paint_color     44602\n",
       "dtype: int64"
      ]
     },
     "execution_count": 21,
     "metadata": {},
     "output_type": "execute_result"
    }
   ],
   "source": [
    "data_v6.isna().sum()"
   ]
  },
  {
   "cell_type": "code",
   "execution_count": 22,
   "metadata": {},
   "outputs": [
    {
     "data": {
      "text/plain": [
       "(241719, 15)"
      ]
     },
     "execution_count": 22,
     "metadata": {},
     "output_type": "execute_result"
    }
   ],
   "source": [
    "data_v6.shape"
   ]
  },
  {
   "cell_type": "markdown",
   "metadata": {},
   "source": [
    "Let us impute paint color by 'none'."
   ]
  },
  {
   "cell_type": "code",
   "execution_count": 23,
   "metadata": {},
   "outputs": [
    {
     "name": "stderr",
     "output_type": "stream",
     "text": [
      "C:\\Users\\prana\\AppData\\Local\\Temp\\ipykernel_19984\\3501033760.py:1: SettingWithCopyWarning: \n",
      "A value is trying to be set on a copy of a slice from a DataFrame\n",
      "\n",
      "See the caveats in the documentation: https://pandas.pydata.org/pandas-docs/stable/user_guide/indexing.html#returning-a-view-versus-a-copy\n",
      "  data_v6['paint_color'].fillna(value='none', inplace=True)\n"
     ]
    }
   ],
   "source": [
    "data_v6['paint_color'].fillna(value='none', inplace=True)"
   ]
  },
  {
   "cell_type": "code",
   "execution_count": 24,
   "metadata": {},
   "outputs": [
    {
     "name": "stdout",
     "output_type": "stream",
     "text": [
      "<class 'pandas.core.frame.DataFrame'>\n",
      "Int64Index: 241719 entries, 27 to 426879\n",
      "Data columns (total 15 columns):\n",
      " #   Column        Non-Null Count   Dtype  \n",
      "---  ------        --------------   -----  \n",
      " 0   price         241719 non-null  int64  \n",
      " 1   year          241719 non-null  float64\n",
      " 2   manufacturer  241719 non-null  object \n",
      " 3   model         241719 non-null  object \n",
      " 4   condition     241719 non-null  object \n",
      " 5   cylinders     241719 non-null  object \n",
      " 6   fuel          241719 non-null  object \n",
      " 7   odometer      241719 non-null  float64\n",
      " 8   title_status  241719 non-null  object \n",
      " 9   transmission  241719 non-null  object \n",
      " 10  drive         241719 non-null  object \n",
      " 11  size          241719 non-null  object \n",
      " 12  type          241719 non-null  object \n",
      " 13  posting_date  241719 non-null  object \n",
      " 14  paint_color   241719 non-null  object \n",
      "dtypes: float64(2), int64(1), object(12)\n",
      "memory usage: 29.5+ MB\n"
     ]
    }
   ],
   "source": [
    "data_v6.info()"
   ]
  },
  {
   "cell_type": "markdown",
   "metadata": {},
   "source": [
    "### Categorical Variables"
   ]
  },
  {
   "cell_type": "code",
   "execution_count": 25,
   "metadata": {},
   "outputs": [
    {
     "data": {
      "text/plain": [
       "27        2021-05-04T12:31:18-0500\n",
       "28        2021-05-04T12:31:08-0500\n",
       "29        2021-05-04T12:31:25-0500\n",
       "30        2021-05-04T10:41:31-0500\n",
       "31        2021-05-03T14:02:03-0500\n",
       "                    ...           \n",
       "426875    2021-04-04T03:21:31-0600\n",
       "426876    2021-04-04T03:21:29-0600\n",
       "426877    2021-04-04T03:21:17-0600\n",
       "426878    2021-04-04T03:21:11-0600\n",
       "426879    2021-04-04T03:21:07-0600\n",
       "Name: posting_date, Length: 241719, dtype: object"
      ]
     },
     "execution_count": 25,
     "metadata": {},
     "output_type": "execute_result"
    }
   ],
   "source": [
    "data_v6['posting_date']"
   ]
  },
  {
   "cell_type": "markdown",
   "metadata": {},
   "source": [
    "Convert posting_date column to datetime format\n"
   ]
  },
  {
   "cell_type": "code",
   "execution_count": 26,
   "metadata": {},
   "outputs": [
    {
     "name": "stderr",
     "output_type": "stream",
     "text": [
      "C:\\Users\\prana\\AppData\\Local\\Temp\\ipykernel_19984\\4100576747.py:1: SettingWithCopyWarning: \n",
      "A value is trying to be set on a copy of a slice from a DataFrame.\n",
      "Try using .loc[row_indexer,col_indexer] = value instead\n",
      "\n",
      "See the caveats in the documentation: https://pandas.pydata.org/pandas-docs/stable/user_guide/indexing.html#returning-a-view-versus-a-copy\n",
      "  data_v6['posting_date']= pd.to_datetime(data_v6['posting_date'] , utc=True)\n"
     ]
    }
   ],
   "source": [
    "data_v6['posting_date']= pd.to_datetime(data_v6['posting_date'] , utc=True)"
   ]
  },
  {
   "cell_type": "markdown",
   "metadata": {},
   "source": [
    "Then convert it to integer, because we want to use this column for the model."
   ]
  },
  {
   "cell_type": "code",
   "execution_count": 27,
   "metadata": {},
   "outputs": [
    {
     "name": "stderr",
     "output_type": "stream",
     "text": [
      "C:\\Users\\prana\\AppData\\Local\\Temp\\ipykernel_19984\\4181322438.py:1: SettingWithCopyWarning: \n",
      "A value is trying to be set on a copy of a slice from a DataFrame.\n",
      "Try using .loc[row_indexer,col_indexer] = value instead\n",
      "\n",
      "See the caveats in the documentation: https://pandas.pydata.org/pandas-docs/stable/user_guide/indexing.html#returning-a-view-versus-a-copy\n",
      "  data_v6['posting_date'] = data_v6['posting_date'].dt.year*10000 + data_v6['posting_date'].dt.month*100 + data_v6['posting_date'].dt.day\n"
     ]
    }
   ],
   "source": [
    "data_v6['posting_date'] = data_v6['posting_date'].dt.year*10000 + data_v6['posting_date'].dt.month*100 + data_v6['posting_date'].dt.day\n"
   ]
  },
  {
   "cell_type": "code",
   "execution_count": 28,
   "metadata": {},
   "outputs": [
    {
     "name": "stdout",
     "output_type": "stream",
     "text": [
      "<class 'pandas.core.frame.DataFrame'>\n",
      "Int64Index: 241719 entries, 27 to 426879\n",
      "Data columns (total 15 columns):\n",
      " #   Column        Non-Null Count   Dtype  \n",
      "---  ------        --------------   -----  \n",
      " 0   price         241719 non-null  int64  \n",
      " 1   year          241719 non-null  float64\n",
      " 2   manufacturer  241719 non-null  object \n",
      " 3   model         241719 non-null  object \n",
      " 4   condition     241719 non-null  object \n",
      " 5   cylinders     241719 non-null  object \n",
      " 6   fuel          241719 non-null  object \n",
      " 7   odometer      241719 non-null  float64\n",
      " 8   title_status  241719 non-null  object \n",
      " 9   transmission  241719 non-null  object \n",
      " 10  drive         241719 non-null  object \n",
      " 11  size          241719 non-null  object \n",
      " 12  type          241719 non-null  object \n",
      " 13  posting_date  241719 non-null  int64  \n",
      " 14  paint_color   241719 non-null  object \n",
      "dtypes: float64(2), int64(2), object(11)\n",
      "memory usage: 29.5+ MB\n"
     ]
    }
   ],
   "source": [
    "data_v6.info()"
   ]
  },
  {
   "cell_type": "markdown",
   "metadata": {},
   "source": [
    "Cylinders have some text values, which we do not need. First we scrape the digit part of them, and then we convert them to int.\n"
   ]
  },
  {
   "cell_type": "code",
   "execution_count": 29,
   "metadata": {},
   "outputs": [],
   "source": [
    "def other_to_0(input):\n",
    "    if input == 'other': \n",
    "        return '0 cylinders'\n",
    "    return input"
   ]
  },
  {
   "cell_type": "code",
   "execution_count": 30,
   "metadata": {},
   "outputs": [
    {
     "name": "stderr",
     "output_type": "stream",
     "text": [
      "C:\\Users\\prana\\AppData\\Local\\Temp\\ipykernel_19984\\2967395791.py:1: SettingWithCopyWarning: \n",
      "A value is trying to be set on a copy of a slice from a DataFrame.\n",
      "Try using .loc[row_indexer,col_indexer] = value instead\n",
      "\n",
      "See the caveats in the documentation: https://pandas.pydata.org/pandas-docs/stable/user_guide/indexing.html#returning-a-view-versus-a-copy\n",
      "  data_v6['cylinders'] = data_v6['cylinders'].apply(other_to_0)\n"
     ]
    }
   ],
   "source": [
    "data_v6['cylinders'] = data_v6['cylinders'].apply(other_to_0)"
   ]
  },
  {
   "cell_type": "code",
   "execution_count": 31,
   "metadata": {},
   "outputs": [
    {
     "name": "stderr",
     "output_type": "stream",
     "text": [
      "C:\\Users\\prana\\AppData\\Local\\Temp\\ipykernel_19984\\1092821188.py:1: SettingWithCopyWarning: \n",
      "A value is trying to be set on a copy of a slice from a DataFrame.\n",
      "Try using .loc[row_indexer,col_indexer] = value instead\n",
      "\n",
      "See the caveats in the documentation: https://pandas.pydata.org/pandas-docs/stable/user_guide/indexing.html#returning-a-view-versus-a-copy\n",
      "  data_v6['cylinders'] = data_v6['cylinders'].str.replace(r'(\\d{1,2})(\\s)(.*)$', r'\\1', regex=True).astype('int64')\n"
     ]
    }
   ],
   "source": [
    "data_v6['cylinders'] = data_v6['cylinders'].str.replace(r'(\\d{1,2})(\\s)(.*)$', r'\\1', regex=True).astype('int64')"
   ]
  },
  {
   "cell_type": "markdown",
   "metadata": {},
   "source": [
    "Let us now handle categorical features\n"
   ]
  },
  {
   "cell_type": "code",
   "execution_count": 32,
   "metadata": {},
   "outputs": [
    {
     "data": {
      "text/plain": [
       "array(['good', 'excellent', 'fair', 'like new', 'new', 'salvage'],\n",
       "      dtype=object)"
      ]
     },
     "execution_count": 32,
     "metadata": {},
     "output_type": "execute_result"
    }
   ],
   "source": [
    "data_v6['condition'].unique()"
   ]
  },
  {
   "cell_type": "code",
   "execution_count": 33,
   "metadata": {},
   "outputs": [
    {
     "data": {
      "text/plain": [
       "array(['gas', 'other', 'diesel', 'hybrid', 'electric'], dtype=object)"
      ]
     },
     "execution_count": 33,
     "metadata": {},
     "output_type": "execute_result"
    }
   ],
   "source": [
    "data_v6['fuel'].unique()"
   ]
  },
  {
   "cell_type": "code",
   "execution_count": 34,
   "metadata": {},
   "outputs": [
    {
     "data": {
      "text/plain": [
       "array(['clean', 'rebuilt', 'lien', 'salvage', 'missing', 'parts only'],\n",
       "      dtype=object)"
      ]
     },
     "execution_count": 34,
     "metadata": {},
     "output_type": "execute_result"
    }
   ],
   "source": [
    "data_v6['title_status'].unique()"
   ]
  },
  {
   "cell_type": "code",
   "execution_count": 35,
   "metadata": {},
   "outputs": [
    {
     "data": {
      "text/plain": [
       "array(['other', 'automatic', 'manual'], dtype=object)"
      ]
     },
     "execution_count": 35,
     "metadata": {},
     "output_type": "execute_result"
    }
   ],
   "source": [
    "data_v6['transmission'].unique()"
   ]
  },
  {
   "cell_type": "code",
   "execution_count": 36,
   "metadata": {},
   "outputs": [
    {
     "data": {
      "text/plain": [
       "array(['rwd', '4wd', 'fwd'], dtype=object)"
      ]
     },
     "execution_count": 36,
     "metadata": {},
     "output_type": "execute_result"
    }
   ],
   "source": [
    "data_v6['drive'].unique()"
   ]
  },
  {
   "cell_type": "code",
   "execution_count": 37,
   "metadata": {},
   "outputs": [
    {
     "data": {
      "text/plain": [
       "array(['full-size', 'mid-size', 'compact', 'sub-compact'], dtype=object)"
      ]
     },
     "execution_count": 37,
     "metadata": {},
     "output_type": "execute_result"
    }
   ],
   "source": [
    "data_v6['size'].unique()"
   ]
  },
  {
   "cell_type": "code",
   "execution_count": 38,
   "metadata": {},
   "outputs": [
    {
     "data": {
      "text/plain": [
       "array(['white', 'blue', 'red', 'black', 'silver', 'grey', 'none', 'brown',\n",
       "       'yellow', 'orange', 'green', 'custom', 'purple'], dtype=object)"
      ]
     },
     "execution_count": 38,
     "metadata": {},
     "output_type": "execute_result"
    }
   ],
   "source": [
    "data_v6['paint_color'].unique()"
   ]
  },
  {
   "cell_type": "code",
   "execution_count": 39,
   "metadata": {},
   "outputs": [
    {
     "data": {
      "text/plain": [
       "Index(['price', 'year', 'manufacturer', 'model', 'condition', 'cylinders',\n",
       "       'fuel', 'odometer', 'title_status', 'transmission', 'drive', 'size',\n",
       "       'type', 'posting_date', 'paint_color'],\n",
       "      dtype='object')"
      ]
     },
     "execution_count": 39,
     "metadata": {},
     "output_type": "execute_result"
    }
   ],
   "source": [
    "data_v6.columns"
   ]
  },
  {
   "cell_type": "code",
   "execution_count": 40,
   "metadata": {},
   "outputs": [],
   "source": [
    "#ordinal encoder list\n",
    "ordinal_columns= ['condition', 'fuel', 'title_status', 'transmission', 'drive', 'size', 'paint_color']\n",
    "\n",
    "\n",
    "ord_condition_list = ['salvage', 'fair', 'good', 'excellent', 'like new', 'new']\n",
    "ord_fuel_list = ['other', 'diesel', 'gas', 'hybrid', 'electric']\n",
    "ord_title_status_list = ['salvage', 'missing', 'parts only', 'rebuilt', 'lien', 'clean']\n",
    "ord_tranmission_list = ['other', 'manual', 'automatic']\n",
    "ord_drive_list= ['fwd', 'rwd', '4wd']\n",
    "ord_size_list = ['mid-size','full-size', 'sub-compact', 'compact']\n",
    "ord_paint_color = ['white', 'blue', 'red', 'black', 'silver', 'grey', 'none', 'brown',\n",
    "                   'yellow', 'orange', 'green', 'custom', 'purple']\n",
    "ordinal_lists = [ord_condition_list,ord_fuel_list,ord_title_status_list,ord_tranmission_list,ord_drive_list,ord_size_list,ord_paint_color]"
   ]
  },
  {
   "cell_type": "markdown",
   "metadata": {},
   "source": [
    "Train and fit Ordinal Encoder"
   ]
  },
  {
   "cell_type": "code",
   "execution_count": 41,
   "metadata": {},
   "outputs": [
    {
     "data": {
      "text/html": [
       "<style>#sk-container-id-1 {color: black;background-color: white;}#sk-container-id-1 pre{padding: 0;}#sk-container-id-1 div.sk-toggleable {background-color: white;}#sk-container-id-1 label.sk-toggleable__label {cursor: pointer;display: block;width: 100%;margin-bottom: 0;padding: 0.3em;box-sizing: border-box;text-align: center;}#sk-container-id-1 label.sk-toggleable__label-arrow:before {content: \"▸\";float: left;margin-right: 0.25em;color: #696969;}#sk-container-id-1 label.sk-toggleable__label-arrow:hover:before {color: black;}#sk-container-id-1 div.sk-estimator:hover label.sk-toggleable__label-arrow:before {color: black;}#sk-container-id-1 div.sk-toggleable__content {max-height: 0;max-width: 0;overflow: hidden;text-align: left;background-color: #f0f8ff;}#sk-container-id-1 div.sk-toggleable__content pre {margin: 0.2em;color: black;border-radius: 0.25em;background-color: #f0f8ff;}#sk-container-id-1 input.sk-toggleable__control:checked~div.sk-toggleable__content {max-height: 200px;max-width: 100%;overflow: auto;}#sk-container-id-1 input.sk-toggleable__control:checked~label.sk-toggleable__label-arrow:before {content: \"▾\";}#sk-container-id-1 div.sk-estimator input.sk-toggleable__control:checked~label.sk-toggleable__label {background-color: #d4ebff;}#sk-container-id-1 div.sk-label input.sk-toggleable__control:checked~label.sk-toggleable__label {background-color: #d4ebff;}#sk-container-id-1 input.sk-hidden--visually {border: 0;clip: rect(1px 1px 1px 1px);clip: rect(1px, 1px, 1px, 1px);height: 1px;margin: -1px;overflow: hidden;padding: 0;position: absolute;width: 1px;}#sk-container-id-1 div.sk-estimator {font-family: monospace;background-color: #f0f8ff;border: 1px dotted black;border-radius: 0.25em;box-sizing: border-box;margin-bottom: 0.5em;}#sk-container-id-1 div.sk-estimator:hover {background-color: #d4ebff;}#sk-container-id-1 div.sk-parallel-item::after {content: \"\";width: 100%;border-bottom: 1px solid gray;flex-grow: 1;}#sk-container-id-1 div.sk-label:hover label.sk-toggleable__label {background-color: #d4ebff;}#sk-container-id-1 div.sk-serial::before {content: \"\";position: absolute;border-left: 1px solid gray;box-sizing: border-box;top: 0;bottom: 0;left: 50%;z-index: 0;}#sk-container-id-1 div.sk-serial {display: flex;flex-direction: column;align-items: center;background-color: white;padding-right: 0.2em;padding-left: 0.2em;position: relative;}#sk-container-id-1 div.sk-item {position: relative;z-index: 1;}#sk-container-id-1 div.sk-parallel {display: flex;align-items: stretch;justify-content: center;background-color: white;position: relative;}#sk-container-id-1 div.sk-item::before, #sk-container-id-1 div.sk-parallel-item::before {content: \"\";position: absolute;border-left: 1px solid gray;box-sizing: border-box;top: 0;bottom: 0;left: 50%;z-index: -1;}#sk-container-id-1 div.sk-parallel-item {display: flex;flex-direction: column;z-index: 1;position: relative;background-color: white;}#sk-container-id-1 div.sk-parallel-item:first-child::after {align-self: flex-end;width: 50%;}#sk-container-id-1 div.sk-parallel-item:last-child::after {align-self: flex-start;width: 50%;}#sk-container-id-1 div.sk-parallel-item:only-child::after {width: 0;}#sk-container-id-1 div.sk-dashed-wrapped {border: 1px dashed gray;margin: 0 0.4em 0.5em 0.4em;box-sizing: border-box;padding-bottom: 0.4em;background-color: white;}#sk-container-id-1 div.sk-label label {font-family: monospace;font-weight: bold;display: inline-block;line-height: 1.2em;}#sk-container-id-1 div.sk-label-container {text-align: center;}#sk-container-id-1 div.sk-container {/* jupyter's `normalize.less` sets `[hidden] { display: none; }` but bootstrap.min.css set `[hidden] { display: none !important; }` so we also need the `!important` here to be able to override the default hidden behavior on the sphinx rendered scikit-learn.org. See: https://github.com/scikit-learn/scikit-learn/issues/21755 */display: inline-block !important;position: relative;}#sk-container-id-1 div.sk-text-repr-fallback {display: none;}</style><div id=\"sk-container-id-1\" class=\"sk-top-container\"><div class=\"sk-text-repr-fallback\"><pre>ColumnTransformer(transformers=[(&#x27;ordinal&#x27;,\n",
       "                                 OrdinalEncoder(categories=[[&#x27;salvage&#x27;, &#x27;fair&#x27;,\n",
       "                                                             &#x27;good&#x27;,\n",
       "                                                             &#x27;excellent&#x27;,\n",
       "                                                             &#x27;like new&#x27;,\n",
       "                                                             &#x27;new&#x27;],\n",
       "                                                            [&#x27;other&#x27;, &#x27;diesel&#x27;,\n",
       "                                                             &#x27;gas&#x27;, &#x27;hybrid&#x27;,\n",
       "                                                             &#x27;electric&#x27;],\n",
       "                                                            [&#x27;salvage&#x27;,\n",
       "                                                             &#x27;missing&#x27;,\n",
       "                                                             &#x27;parts only&#x27;,\n",
       "                                                             &#x27;rebuilt&#x27;, &#x27;lien&#x27;,\n",
       "                                                             &#x27;clean&#x27;],\n",
       "                                                            [&#x27;other&#x27;, &#x27;manual&#x27;,\n",
       "                                                             &#x27;automatic&#x27;],\n",
       "                                                            [&#x27;fwd&#x27;, &#x27;rwd&#x27;,\n",
       "                                                             &#x27;4wd&#x27;],\n",
       "                                                            [&#x27;mid-size&#x27;,\n",
       "                                                             &#x27;full-size&#x27;,\n",
       "                                                             &#x27;sub-compact&#x27;,\n",
       "                                                             &#x27;compact&#x27;],\n",
       "                                                            [&#x27;white&#x27;, &#x27;blue&#x27;,\n",
       "                                                             &#x27;red&#x27;, &#x27;black&#x27;,\n",
       "                                                             &#x27;silver&#x27;, &#x27;grey&#x27;,\n",
       "                                                             &#x27;none&#x27;, &#x27;brown&#x27;,\n",
       "                                                             &#x27;yellow&#x27;, &#x27;orange&#x27;,\n",
       "                                                             &#x27;green&#x27;, &#x27;custom&#x27;,\n",
       "                                                             &#x27;purple&#x27;]]),\n",
       "                                 [&#x27;condition&#x27;, &#x27;fuel&#x27;, &#x27;title_status&#x27;,\n",
       "                                  &#x27;transmission&#x27;, &#x27;drive&#x27;, &#x27;size&#x27;,\n",
       "                                  &#x27;paint_color&#x27;])])</pre><b>In a Jupyter environment, please rerun this cell to show the HTML representation or trust the notebook. <br />On GitHub, the HTML representation is unable to render, please try loading this page with nbviewer.org.</b></div><div class=\"sk-container\" hidden><div class=\"sk-item sk-dashed-wrapped\"><div class=\"sk-label-container\"><div class=\"sk-label sk-toggleable\"><input class=\"sk-toggleable__control sk-hidden--visually\" id=\"sk-estimator-id-1\" type=\"checkbox\" ><label for=\"sk-estimator-id-1\" class=\"sk-toggleable__label sk-toggleable__label-arrow\">ColumnTransformer</label><div class=\"sk-toggleable__content\"><pre>ColumnTransformer(transformers=[(&#x27;ordinal&#x27;,\n",
       "                                 OrdinalEncoder(categories=[[&#x27;salvage&#x27;, &#x27;fair&#x27;,\n",
       "                                                             &#x27;good&#x27;,\n",
       "                                                             &#x27;excellent&#x27;,\n",
       "                                                             &#x27;like new&#x27;,\n",
       "                                                             &#x27;new&#x27;],\n",
       "                                                            [&#x27;other&#x27;, &#x27;diesel&#x27;,\n",
       "                                                             &#x27;gas&#x27;, &#x27;hybrid&#x27;,\n",
       "                                                             &#x27;electric&#x27;],\n",
       "                                                            [&#x27;salvage&#x27;,\n",
       "                                                             &#x27;missing&#x27;,\n",
       "                                                             &#x27;parts only&#x27;,\n",
       "                                                             &#x27;rebuilt&#x27;, &#x27;lien&#x27;,\n",
       "                                                             &#x27;clean&#x27;],\n",
       "                                                            [&#x27;other&#x27;, &#x27;manual&#x27;,\n",
       "                                                             &#x27;automatic&#x27;],\n",
       "                                                            [&#x27;fwd&#x27;, &#x27;rwd&#x27;,\n",
       "                                                             &#x27;4wd&#x27;],\n",
       "                                                            [&#x27;mid-size&#x27;,\n",
       "                                                             &#x27;full-size&#x27;,\n",
       "                                                             &#x27;sub-compact&#x27;,\n",
       "                                                             &#x27;compact&#x27;],\n",
       "                                                            [&#x27;white&#x27;, &#x27;blue&#x27;,\n",
       "                                                             &#x27;red&#x27;, &#x27;black&#x27;,\n",
       "                                                             &#x27;silver&#x27;, &#x27;grey&#x27;,\n",
       "                                                             &#x27;none&#x27;, &#x27;brown&#x27;,\n",
       "                                                             &#x27;yellow&#x27;, &#x27;orange&#x27;,\n",
       "                                                             &#x27;green&#x27;, &#x27;custom&#x27;,\n",
       "                                                             &#x27;purple&#x27;]]),\n",
       "                                 [&#x27;condition&#x27;, &#x27;fuel&#x27;, &#x27;title_status&#x27;,\n",
       "                                  &#x27;transmission&#x27;, &#x27;drive&#x27;, &#x27;size&#x27;,\n",
       "                                  &#x27;paint_color&#x27;])])</pre></div></div></div><div class=\"sk-parallel\"><div class=\"sk-parallel-item\"><div class=\"sk-item\"><div class=\"sk-label-container\"><div class=\"sk-label sk-toggleable\"><input class=\"sk-toggleable__control sk-hidden--visually\" id=\"sk-estimator-id-2\" type=\"checkbox\" ><label for=\"sk-estimator-id-2\" class=\"sk-toggleable__label sk-toggleable__label-arrow\">ordinal</label><div class=\"sk-toggleable__content\"><pre>[&#x27;condition&#x27;, &#x27;fuel&#x27;, &#x27;title_status&#x27;, &#x27;transmission&#x27;, &#x27;drive&#x27;, &#x27;size&#x27;, &#x27;paint_color&#x27;]</pre></div></div></div><div class=\"sk-serial\"><div class=\"sk-item\"><div class=\"sk-estimator sk-toggleable\"><input class=\"sk-toggleable__control sk-hidden--visually\" id=\"sk-estimator-id-3\" type=\"checkbox\" ><label for=\"sk-estimator-id-3\" class=\"sk-toggleable__label sk-toggleable__label-arrow\">OrdinalEncoder</label><div class=\"sk-toggleable__content\"><pre>OrdinalEncoder(categories=[[&#x27;salvage&#x27;, &#x27;fair&#x27;, &#x27;good&#x27;, &#x27;excellent&#x27;, &#x27;like new&#x27;,\n",
       "                            &#x27;new&#x27;],\n",
       "                           [&#x27;other&#x27;, &#x27;diesel&#x27;, &#x27;gas&#x27;, &#x27;hybrid&#x27;, &#x27;electric&#x27;],\n",
       "                           [&#x27;salvage&#x27;, &#x27;missing&#x27;, &#x27;parts only&#x27;, &#x27;rebuilt&#x27;,\n",
       "                            &#x27;lien&#x27;, &#x27;clean&#x27;],\n",
       "                           [&#x27;other&#x27;, &#x27;manual&#x27;, &#x27;automatic&#x27;],\n",
       "                           [&#x27;fwd&#x27;, &#x27;rwd&#x27;, &#x27;4wd&#x27;],\n",
       "                           [&#x27;mid-size&#x27;, &#x27;full-size&#x27;, &#x27;sub-compact&#x27;, &#x27;compact&#x27;],\n",
       "                           [&#x27;white&#x27;, &#x27;blue&#x27;, &#x27;red&#x27;, &#x27;black&#x27;, &#x27;silver&#x27;, &#x27;grey&#x27;,\n",
       "                            &#x27;none&#x27;, &#x27;brown&#x27;, &#x27;yellow&#x27;, &#x27;orange&#x27;, &#x27;green&#x27;,\n",
       "                            &#x27;custom&#x27;, &#x27;purple&#x27;]])</pre></div></div></div></div></div></div></div></div></div></div>"
      ],
      "text/plain": [
       "ColumnTransformer(transformers=[('ordinal',\n",
       "                                 OrdinalEncoder(categories=[['salvage', 'fair',\n",
       "                                                             'good',\n",
       "                                                             'excellent',\n",
       "                                                             'like new',\n",
       "                                                             'new'],\n",
       "                                                            ['other', 'diesel',\n",
       "                                                             'gas', 'hybrid',\n",
       "                                                             'electric'],\n",
       "                                                            ['salvage',\n",
       "                                                             'missing',\n",
       "                                                             'parts only',\n",
       "                                                             'rebuilt', 'lien',\n",
       "                                                             'clean'],\n",
       "                                                            ['other', 'manual',\n",
       "                                                             'automatic'],\n",
       "                                                            ['fwd', 'rwd',\n",
       "                                                             '4wd'],\n",
       "                                                            ['mid-size',\n",
       "                                                             'full-size',\n",
       "                                                             'sub-compact',\n",
       "                                                             'compact'],\n",
       "                                                            ['white', 'blue',\n",
       "                                                             'red', 'black',\n",
       "                                                             'silver', 'grey',\n",
       "                                                             'none', 'brown',\n",
       "                                                             'yellow', 'orange',\n",
       "                                                             'green', 'custom',\n",
       "                                                             'purple']]),\n",
       "                                 ['condition', 'fuel', 'title_status',\n",
       "                                  'transmission', 'drive', 'size',\n",
       "                                  'paint_color'])])"
      ]
     },
     "execution_count": 41,
     "metadata": {},
     "output_type": "execute_result"
    }
   ],
   "source": [
    "ct_ordinal= ColumnTransformer([(\"ordinal\", OrdinalEncoder(categories=ordinal_lists),ordinal_columns)])\n",
    "ct_ordinal.fit(data_v6)"
   ]
  },
  {
   "cell_type": "code",
   "execution_count": 42,
   "metadata": {},
   "outputs": [
    {
     "name": "stdout",
     "output_type": "stream",
     "text": [
      "<class 'pandas.core.frame.DataFrame'>\n",
      "RangeIndex: 241719 entries, 0 to 241718\n",
      "Data columns (total 15 columns):\n",
      " #   Column        Non-Null Count   Dtype  \n",
      "---  ------        --------------   -----  \n",
      " 0   price         241719 non-null  int64  \n",
      " 1   year          241719 non-null  float64\n",
      " 2   manufacturer  241719 non-null  object \n",
      " 3   model         241719 non-null  object \n",
      " 4   cylinders     241719 non-null  int64  \n",
      " 5   odometer      241719 non-null  float64\n",
      " 6   type          241719 non-null  object \n",
      " 7   posting_date  241719 non-null  int64  \n",
      " 8   condition     241719 non-null  float64\n",
      " 9   fuel          241719 non-null  float64\n",
      " 10  title_status  241719 non-null  float64\n",
      " 11  transmission  241719 non-null  float64\n",
      " 12  drive         241719 non-null  float64\n",
      " 13  size          241719 non-null  float64\n",
      " 14  paint_color   241719 non-null  float64\n",
      "dtypes: float64(9), int64(3), object(3)\n",
      "memory usage: 27.7+ MB\n"
     ]
    }
   ],
   "source": [
    "ordinal_df = pd.DataFrame(ct_ordinal.transform(data_v6), columns= ordinal_columns)\n",
    "\n",
    "data_v7 = data_v6.copy()\n",
    "data_v7.reset_index(inplace=True, drop=True)\n",
    "data_v7.drop(columns=ordinal_columns, inplace= True) \n",
    "data_v7[ordinal_columns]= ordinal_df[ordinal_columns]\n",
    "data_v7.info()\n"
   ]
  },
  {
   "cell_type": "code",
   "execution_count": 43,
   "metadata": {},
   "outputs": [
    {
     "data": {
      "text/html": [
       "<div>\n",
       "<style scoped>\n",
       "    .dataframe tbody tr th:only-of-type {\n",
       "        vertical-align: middle;\n",
       "    }\n",
       "\n",
       "    .dataframe tbody tr th {\n",
       "        vertical-align: top;\n",
       "    }\n",
       "\n",
       "    .dataframe thead th {\n",
       "        text-align: right;\n",
       "    }\n",
       "</style>\n",
       "<table border=\"1\" class=\"dataframe\">\n",
       "  <thead>\n",
       "    <tr style=\"text-align: right;\">\n",
       "      <th></th>\n",
       "      <th>price</th>\n",
       "      <th>year</th>\n",
       "      <th>cylinders</th>\n",
       "      <th>odometer</th>\n",
       "      <th>posting_date</th>\n",
       "      <th>condition</th>\n",
       "      <th>fuel</th>\n",
       "      <th>title_status</th>\n",
       "      <th>transmission</th>\n",
       "      <th>drive</th>\n",
       "      <th>size</th>\n",
       "      <th>paint_color</th>\n",
       "    </tr>\n",
       "  </thead>\n",
       "  <tbody>\n",
       "    <tr>\n",
       "      <th>count</th>\n",
       "      <td>2.417190e+05</td>\n",
       "      <td>241719.000000</td>\n",
       "      <td>241719.000000</td>\n",
       "      <td>2.417190e+05</td>\n",
       "      <td>2.417190e+05</td>\n",
       "      <td>241719.000000</td>\n",
       "      <td>241719.000000</td>\n",
       "      <td>241719.000000</td>\n",
       "      <td>241719.000000</td>\n",
       "      <td>241719.000000</td>\n",
       "      <td>241719.000000</td>\n",
       "      <td>241719.000000</td>\n",
       "    </tr>\n",
       "    <tr>\n",
       "      <th>mean</th>\n",
       "      <td>6.151027e+04</td>\n",
       "      <td>2010.733703</td>\n",
       "      <td>6.570108</td>\n",
       "      <td>9.732563e+04</td>\n",
       "      <td>2.021044e+07</td>\n",
       "      <td>2.541662</td>\n",
       "      <td>1.788767</td>\n",
       "      <td>4.892644</td>\n",
       "      <td>1.462504</td>\n",
       "      <td>1.020578</td>\n",
       "      <td>0.993128</td>\n",
       "      <td>3.343192</td>\n",
       "    </tr>\n",
       "    <tr>\n",
       "      <th>std</th>\n",
       "      <td>1.128491e+07</td>\n",
       "      <td>9.831953</td>\n",
       "      <td>1.643879</td>\n",
       "      <td>2.146261e+05</td>\n",
       "      <td>3.763783e+01</td>\n",
       "      <td>0.720952</td>\n",
       "      <td>0.621617</td>\n",
       "      <td>0.605503</td>\n",
       "      <td>0.850551</td>\n",
       "      <td>0.765271</td>\n",
       "      <td>0.569998</td>\n",
       "      <td>2.663288</td>\n",
       "    </tr>\n",
       "    <tr>\n",
       "      <th>min</th>\n",
       "      <td>0.000000e+00</td>\n",
       "      <td>1900.000000</td>\n",
       "      <td>0.000000</td>\n",
       "      <td>0.000000e+00</td>\n",
       "      <td>2.021040e+07</td>\n",
       "      <td>0.000000</td>\n",
       "      <td>0.000000</td>\n",
       "      <td>0.000000</td>\n",
       "      <td>0.000000</td>\n",
       "      <td>0.000000</td>\n",
       "      <td>0.000000</td>\n",
       "      <td>0.000000</td>\n",
       "    </tr>\n",
       "    <tr>\n",
       "      <th>25%</th>\n",
       "      <td>6.500000e+03</td>\n",
       "      <td>2008.000000</td>\n",
       "      <td>6.000000</td>\n",
       "      <td>3.394600e+04</td>\n",
       "      <td>2.021042e+07</td>\n",
       "      <td>2.000000</td>\n",
       "      <td>2.000000</td>\n",
       "      <td>5.000000</td>\n",
       "      <td>1.000000</td>\n",
       "      <td>0.000000</td>\n",
       "      <td>1.000000</td>\n",
       "      <td>1.000000</td>\n",
       "    </tr>\n",
       "    <tr>\n",
       "      <th>50%</th>\n",
       "      <td>1.450000e+04</td>\n",
       "      <td>2013.000000</td>\n",
       "      <td>8.000000</td>\n",
       "      <td>8.339400e+04</td>\n",
       "      <td>2.021043e+07</td>\n",
       "      <td>2.000000</td>\n",
       "      <td>2.000000</td>\n",
       "      <td>5.000000</td>\n",
       "      <td>2.000000</td>\n",
       "      <td>1.000000</td>\n",
       "      <td>1.000000</td>\n",
       "      <td>3.000000</td>\n",
       "    </tr>\n",
       "    <tr>\n",
       "      <th>75%</th>\n",
       "      <td>2.699000e+04</td>\n",
       "      <td>2017.000000</td>\n",
       "      <td>8.000000</td>\n",
       "      <td>1.350435e+05</td>\n",
       "      <td>2.021050e+07</td>\n",
       "      <td>3.000000</td>\n",
       "      <td>2.000000</td>\n",
       "      <td>5.000000</td>\n",
       "      <td>2.000000</td>\n",
       "      <td>2.000000</td>\n",
       "      <td>1.000000</td>\n",
       "      <td>6.000000</td>\n",
       "    </tr>\n",
       "    <tr>\n",
       "      <th>max</th>\n",
       "      <td>3.736929e+09</td>\n",
       "      <td>2022.000000</td>\n",
       "      <td>12.000000</td>\n",
       "      <td>1.000000e+07</td>\n",
       "      <td>2.021050e+07</td>\n",
       "      <td>5.000000</td>\n",
       "      <td>4.000000</td>\n",
       "      <td>5.000000</td>\n",
       "      <td>2.000000</td>\n",
       "      <td>2.000000</td>\n",
       "      <td>3.000000</td>\n",
       "      <td>12.000000</td>\n",
       "    </tr>\n",
       "  </tbody>\n",
       "</table>\n",
       "</div>"
      ],
      "text/plain": [
       "              price           year      cylinders      odometer  posting_date  \\\n",
       "count  2.417190e+05  241719.000000  241719.000000  2.417190e+05  2.417190e+05   \n",
       "mean   6.151027e+04    2010.733703       6.570108  9.732563e+04  2.021044e+07   \n",
       "std    1.128491e+07       9.831953       1.643879  2.146261e+05  3.763783e+01   \n",
       "min    0.000000e+00    1900.000000       0.000000  0.000000e+00  2.021040e+07   \n",
       "25%    6.500000e+03    2008.000000       6.000000  3.394600e+04  2.021042e+07   \n",
       "50%    1.450000e+04    2013.000000       8.000000  8.339400e+04  2.021043e+07   \n",
       "75%    2.699000e+04    2017.000000       8.000000  1.350435e+05  2.021050e+07   \n",
       "max    3.736929e+09    2022.000000      12.000000  1.000000e+07  2.021050e+07   \n",
       "\n",
       "           condition           fuel   title_status   transmission  \\\n",
       "count  241719.000000  241719.000000  241719.000000  241719.000000   \n",
       "mean        2.541662       1.788767       4.892644       1.462504   \n",
       "std         0.720952       0.621617       0.605503       0.850551   \n",
       "min         0.000000       0.000000       0.000000       0.000000   \n",
       "25%         2.000000       2.000000       5.000000       1.000000   \n",
       "50%         2.000000       2.000000       5.000000       2.000000   \n",
       "75%         3.000000       2.000000       5.000000       2.000000   \n",
       "max         5.000000       4.000000       5.000000       2.000000   \n",
       "\n",
       "               drive           size    paint_color  \n",
       "count  241719.000000  241719.000000  241719.000000  \n",
       "mean        1.020578       0.993128       3.343192  \n",
       "std         0.765271       0.569998       2.663288  \n",
       "min         0.000000       0.000000       0.000000  \n",
       "25%         0.000000       1.000000       1.000000  \n",
       "50%         1.000000       1.000000       3.000000  \n",
       "75%         2.000000       1.000000       6.000000  \n",
       "max         2.000000       3.000000      12.000000  "
      ]
     },
     "execution_count": 43,
     "metadata": {},
     "output_type": "execute_result"
    }
   ],
   "source": [
    "data_v7.describe()"
   ]
  },
  {
   "cell_type": "markdown",
   "metadata": {},
   "source": [
    "### Outlier"
   ]
  },
  {
   "cell_type": "markdown",
   "metadata": {},
   "source": [
    "There are many records with price of 0. And a few records with very high prices. Let us drop these outliers.\n"
   ]
  },
  {
   "cell_type": "code",
   "execution_count": 44,
   "metadata": {},
   "outputs": [
    {
     "data": {
      "text/html": [
       "<div>\n",
       "<style scoped>\n",
       "    .dataframe tbody tr th:only-of-type {\n",
       "        vertical-align: middle;\n",
       "    }\n",
       "\n",
       "    .dataframe tbody tr th {\n",
       "        vertical-align: top;\n",
       "    }\n",
       "\n",
       "    .dataframe thead th {\n",
       "        text-align: right;\n",
       "    }\n",
       "</style>\n",
       "<table border=\"1\" class=\"dataframe\">\n",
       "  <thead>\n",
       "    <tr style=\"text-align: right;\">\n",
       "      <th></th>\n",
       "      <th>price</th>\n",
       "      <th>year</th>\n",
       "      <th>manufacturer</th>\n",
       "      <th>model</th>\n",
       "      <th>cylinders</th>\n",
       "      <th>odometer</th>\n",
       "      <th>type</th>\n",
       "      <th>posting_date</th>\n",
       "      <th>condition</th>\n",
       "      <th>fuel</th>\n",
       "      <th>title_status</th>\n",
       "      <th>transmission</th>\n",
       "      <th>drive</th>\n",
       "      <th>size</th>\n",
       "      <th>paint_color</th>\n",
       "    </tr>\n",
       "  </thead>\n",
       "  <tbody>\n",
       "    <tr>\n",
       "      <th>0</th>\n",
       "      <td>33590</td>\n",
       "      <td>2014.0</td>\n",
       "      <td>gmc</td>\n",
       "      <td>sierra 1500 crew cab slt</td>\n",
       "      <td>8</td>\n",
       "      <td>57923.0</td>\n",
       "      <td>pickup</td>\n",
       "      <td>20210504</td>\n",
       "      <td>2.0</td>\n",
       "      <td>2.0</td>\n",
       "      <td>5.0</td>\n",
       "      <td>0.0</td>\n",
       "      <td>1.0</td>\n",
       "      <td>1.0</td>\n",
       "      <td>0.0</td>\n",
       "    </tr>\n",
       "    <tr>\n",
       "      <th>1</th>\n",
       "      <td>22590</td>\n",
       "      <td>2010.0</td>\n",
       "      <td>chevrolet</td>\n",
       "      <td>silverado 1500</td>\n",
       "      <td>8</td>\n",
       "      <td>71229.0</td>\n",
       "      <td>pickup</td>\n",
       "      <td>20210504</td>\n",
       "      <td>2.0</td>\n",
       "      <td>2.0</td>\n",
       "      <td>5.0</td>\n",
       "      <td>0.0</td>\n",
       "      <td>1.0</td>\n",
       "      <td>1.0</td>\n",
       "      <td>1.0</td>\n",
       "    </tr>\n",
       "    <tr>\n",
       "      <th>2</th>\n",
       "      <td>39590</td>\n",
       "      <td>2020.0</td>\n",
       "      <td>chevrolet</td>\n",
       "      <td>silverado 1500 crew</td>\n",
       "      <td>8</td>\n",
       "      <td>19160.0</td>\n",
       "      <td>pickup</td>\n",
       "      <td>20210504</td>\n",
       "      <td>2.0</td>\n",
       "      <td>2.0</td>\n",
       "      <td>5.0</td>\n",
       "      <td>0.0</td>\n",
       "      <td>1.0</td>\n",
       "      <td>1.0</td>\n",
       "      <td>2.0</td>\n",
       "    </tr>\n",
       "    <tr>\n",
       "      <th>3</th>\n",
       "      <td>30990</td>\n",
       "      <td>2017.0</td>\n",
       "      <td>toyota</td>\n",
       "      <td>tundra double cab sr</td>\n",
       "      <td>8</td>\n",
       "      <td>41124.0</td>\n",
       "      <td>pickup</td>\n",
       "      <td>20210504</td>\n",
       "      <td>2.0</td>\n",
       "      <td>2.0</td>\n",
       "      <td>5.0</td>\n",
       "      <td>0.0</td>\n",
       "      <td>1.0</td>\n",
       "      <td>1.0</td>\n",
       "      <td>2.0</td>\n",
       "    </tr>\n",
       "    <tr>\n",
       "      <th>4</th>\n",
       "      <td>15000</td>\n",
       "      <td>2013.0</td>\n",
       "      <td>ford</td>\n",
       "      <td>f-150 xlt</td>\n",
       "      <td>6</td>\n",
       "      <td>128000.0</td>\n",
       "      <td>truck</td>\n",
       "      <td>20210503</td>\n",
       "      <td>3.0</td>\n",
       "      <td>2.0</td>\n",
       "      <td>5.0</td>\n",
       "      <td>2.0</td>\n",
       "      <td>1.0</td>\n",
       "      <td>1.0</td>\n",
       "      <td>3.0</td>\n",
       "    </tr>\n",
       "    <tr>\n",
       "      <th>...</th>\n",
       "      <td>...</td>\n",
       "      <td>...</td>\n",
       "      <td>...</td>\n",
       "      <td>...</td>\n",
       "      <td>...</td>\n",
       "      <td>...</td>\n",
       "      <td>...</td>\n",
       "      <td>...</td>\n",
       "      <td>...</td>\n",
       "      <td>...</td>\n",
       "      <td>...</td>\n",
       "      <td>...</td>\n",
       "      <td>...</td>\n",
       "      <td>...</td>\n",
       "      <td>...</td>\n",
       "    </tr>\n",
       "    <tr>\n",
       "      <th>241714</th>\n",
       "      <td>23590</td>\n",
       "      <td>2019.0</td>\n",
       "      <td>nissan</td>\n",
       "      <td>maxima s sedan 4d</td>\n",
       "      <td>6</td>\n",
       "      <td>32226.0</td>\n",
       "      <td>sedan</td>\n",
       "      <td>20210404</td>\n",
       "      <td>2.0</td>\n",
       "      <td>2.0</td>\n",
       "      <td>5.0</td>\n",
       "      <td>0.0</td>\n",
       "      <td>0.0</td>\n",
       "      <td>1.0</td>\n",
       "      <td>6.0</td>\n",
       "    </tr>\n",
       "    <tr>\n",
       "      <th>241715</th>\n",
       "      <td>30590</td>\n",
       "      <td>2020.0</td>\n",
       "      <td>volvo</td>\n",
       "      <td>s60 t5 momentum sedan 4d</td>\n",
       "      <td>8</td>\n",
       "      <td>12029.0</td>\n",
       "      <td>sedan</td>\n",
       "      <td>20210404</td>\n",
       "      <td>2.0</td>\n",
       "      <td>2.0</td>\n",
       "      <td>5.0</td>\n",
       "      <td>0.0</td>\n",
       "      <td>0.0</td>\n",
       "      <td>1.0</td>\n",
       "      <td>2.0</td>\n",
       "    </tr>\n",
       "    <tr>\n",
       "      <th>241716</th>\n",
       "      <td>34990</td>\n",
       "      <td>2020.0</td>\n",
       "      <td>cadillac</td>\n",
       "      <td>xt4 sport suv 4d</td>\n",
       "      <td>8</td>\n",
       "      <td>4174.0</td>\n",
       "      <td>hatchback</td>\n",
       "      <td>20210404</td>\n",
       "      <td>2.0</td>\n",
       "      <td>1.0</td>\n",
       "      <td>5.0</td>\n",
       "      <td>0.0</td>\n",
       "      <td>1.0</td>\n",
       "      <td>1.0</td>\n",
       "      <td>0.0</td>\n",
       "    </tr>\n",
       "    <tr>\n",
       "      <th>241717</th>\n",
       "      <td>28990</td>\n",
       "      <td>2018.0</td>\n",
       "      <td>lexus</td>\n",
       "      <td>es 350 sedan 4d</td>\n",
       "      <td>6</td>\n",
       "      <td>30112.0</td>\n",
       "      <td>sedan</td>\n",
       "      <td>20210404</td>\n",
       "      <td>2.0</td>\n",
       "      <td>2.0</td>\n",
       "      <td>5.0</td>\n",
       "      <td>0.0</td>\n",
       "      <td>0.0</td>\n",
       "      <td>1.0</td>\n",
       "      <td>4.0</td>\n",
       "    </tr>\n",
       "    <tr>\n",
       "      <th>241718</th>\n",
       "      <td>30590</td>\n",
       "      <td>2019.0</td>\n",
       "      <td>bmw</td>\n",
       "      <td>4 series 430i gran coupe</td>\n",
       "      <td>8</td>\n",
       "      <td>22716.0</td>\n",
       "      <td>coupe</td>\n",
       "      <td>20210404</td>\n",
       "      <td>2.0</td>\n",
       "      <td>2.0</td>\n",
       "      <td>5.0</td>\n",
       "      <td>0.0</td>\n",
       "      <td>1.0</td>\n",
       "      <td>1.0</td>\n",
       "      <td>6.0</td>\n",
       "    </tr>\n",
       "  </tbody>\n",
       "</table>\n",
       "<p>227057 rows × 15 columns</p>\n",
       "</div>"
      ],
      "text/plain": [
       "        price    year manufacturer                     model  cylinders  \\\n",
       "0       33590  2014.0          gmc  sierra 1500 crew cab slt          8   \n",
       "1       22590  2010.0    chevrolet            silverado 1500          8   \n",
       "2       39590  2020.0    chevrolet       silverado 1500 crew          8   \n",
       "3       30990  2017.0       toyota      tundra double cab sr          8   \n",
       "4       15000  2013.0         ford                 f-150 xlt          6   \n",
       "...       ...     ...          ...                       ...        ...   \n",
       "241714  23590  2019.0       nissan         maxima s sedan 4d          6   \n",
       "241715  30590  2020.0        volvo  s60 t5 momentum sedan 4d          8   \n",
       "241716  34990  2020.0     cadillac          xt4 sport suv 4d          8   \n",
       "241717  28990  2018.0        lexus           es 350 sedan 4d          6   \n",
       "241718  30590  2019.0          bmw  4 series 430i gran coupe          8   \n",
       "\n",
       "        odometer       type  posting_date  condition  fuel  title_status  \\\n",
       "0        57923.0     pickup      20210504        2.0   2.0           5.0   \n",
       "1        71229.0     pickup      20210504        2.0   2.0           5.0   \n",
       "2        19160.0     pickup      20210504        2.0   2.0           5.0   \n",
       "3        41124.0     pickup      20210504        2.0   2.0           5.0   \n",
       "4       128000.0      truck      20210503        3.0   2.0           5.0   \n",
       "...          ...        ...           ...        ...   ...           ...   \n",
       "241714   32226.0      sedan      20210404        2.0   2.0           5.0   \n",
       "241715   12029.0      sedan      20210404        2.0   2.0           5.0   \n",
       "241716    4174.0  hatchback      20210404        2.0   1.0           5.0   \n",
       "241717   30112.0      sedan      20210404        2.0   2.0           5.0   \n",
       "241718   22716.0      coupe      20210404        2.0   2.0           5.0   \n",
       "\n",
       "        transmission  drive  size  paint_color  \n",
       "0                0.0    1.0   1.0          0.0  \n",
       "1                0.0    1.0   1.0          1.0  \n",
       "2                0.0    1.0   1.0          2.0  \n",
       "3                0.0    1.0   1.0          2.0  \n",
       "4                2.0    1.0   1.0          3.0  \n",
       "...              ...    ...   ...          ...  \n",
       "241714           0.0    0.0   1.0          6.0  \n",
       "241715           0.0    0.0   1.0          2.0  \n",
       "241716           0.0    1.0   1.0          0.0  \n",
       "241717           0.0    0.0   1.0          4.0  \n",
       "241718           0.0    1.0   1.0          6.0  \n",
       "\n",
       "[227057 rows x 15 columns]"
      ]
     },
     "execution_count": 44,
     "metadata": {},
     "output_type": "execute_result"
    }
   ],
   "source": [
    "data_v8 =data_v7[(data_v7['price']> 1000) & (data_v7['price'] < 100000)]\n",
    "data_v8"
   ]
  },
  {
   "cell_type": "code",
   "execution_count": 45,
   "metadata": {},
   "outputs": [],
   "source": [
    "df_filtered = data_v8.copy()\n",
    "for column in df_filtered.select_dtypes(include=\"number\").columns:\n",
    "    q_low = df_filtered[column].quantile(0.1)\n",
    "    q_hi  = df_filtered[column].quantile(0.9)\n",
    "    data_v9 = df_filtered[(df_filtered[column] < q_hi) & (df_filtered[column] > q_low)]"
   ]
  },
  {
   "cell_type": "code",
   "execution_count": 46,
   "metadata": {},
   "outputs": [
    {
     "data": {
      "text/html": [
       "<div>\n",
       "<style scoped>\n",
       "    .dataframe tbody tr th:only-of-type {\n",
       "        vertical-align: middle;\n",
       "    }\n",
       "\n",
       "    .dataframe tbody tr th {\n",
       "        vertical-align: top;\n",
       "    }\n",
       "\n",
       "    .dataframe thead th {\n",
       "        text-align: right;\n",
       "    }\n",
       "</style>\n",
       "<table border=\"1\" class=\"dataframe\">\n",
       "  <thead>\n",
       "    <tr style=\"text-align: right;\">\n",
       "      <th></th>\n",
       "      <th>price</th>\n",
       "      <th>year</th>\n",
       "      <th>cylinders</th>\n",
       "      <th>odometer</th>\n",
       "      <th>posting_date</th>\n",
       "      <th>condition</th>\n",
       "      <th>fuel</th>\n",
       "      <th>title_status</th>\n",
       "      <th>transmission</th>\n",
       "      <th>drive</th>\n",
       "      <th>size</th>\n",
       "      <th>paint_color</th>\n",
       "    </tr>\n",
       "  </thead>\n",
       "  <tbody>\n",
       "    <tr>\n",
       "      <th>count</th>\n",
       "      <td>122035.000000</td>\n",
       "      <td>122035.000000</td>\n",
       "      <td>122035.000000</td>\n",
       "      <td>1.220350e+05</td>\n",
       "      <td>1.220350e+05</td>\n",
       "      <td>122035.000000</td>\n",
       "      <td>122035.000000</td>\n",
       "      <td>122035.000000</td>\n",
       "      <td>122035.000000</td>\n",
       "      <td>122035.000000</td>\n",
       "      <td>122035.000000</td>\n",
       "      <td>122035.000000</td>\n",
       "    </tr>\n",
       "    <tr>\n",
       "      <th>mean</th>\n",
       "      <td>17960.317335</td>\n",
       "      <td>2010.986709</td>\n",
       "      <td>6.420322</td>\n",
       "      <td>9.447312e+04</td>\n",
       "      <td>2.021044e+07</td>\n",
       "      <td>2.517663</td>\n",
       "      <td>1.803696</td>\n",
       "      <td>4.880559</td>\n",
       "      <td>1.429090</td>\n",
       "      <td>0.989978</td>\n",
       "      <td>0.992904</td>\n",
       "      <td>2.969214</td>\n",
       "    </tr>\n",
       "    <tr>\n",
       "      <th>std</th>\n",
       "      <td>12936.055171</td>\n",
       "      <td>9.212154</td>\n",
       "      <td>1.657810</td>\n",
       "      <td>1.735817e+05</td>\n",
       "      <td>3.785228e+01</td>\n",
       "      <td>0.701707</td>\n",
       "      <td>0.621409</td>\n",
       "      <td>0.629751</td>\n",
       "      <td>0.867508</td>\n",
       "      <td>0.799913</td>\n",
       "      <td>0.632535</td>\n",
       "      <td>1.252349</td>\n",
       "    </tr>\n",
       "    <tr>\n",
       "      <th>min</th>\n",
       "      <td>1057.000000</td>\n",
       "      <td>1900.000000</td>\n",
       "      <td>0.000000</td>\n",
       "      <td>0.000000e+00</td>\n",
       "      <td>2.021040e+07</td>\n",
       "      <td>0.000000</td>\n",
       "      <td>0.000000</td>\n",
       "      <td>0.000000</td>\n",
       "      <td>0.000000</td>\n",
       "      <td>0.000000</td>\n",
       "      <td>0.000000</td>\n",
       "      <td>1.000000</td>\n",
       "    </tr>\n",
       "    <tr>\n",
       "      <th>25%</th>\n",
       "      <td>7194.000000</td>\n",
       "      <td>2008.000000</td>\n",
       "      <td>6.000000</td>\n",
       "      <td>3.442500e+04</td>\n",
       "      <td>2.021042e+07</td>\n",
       "      <td>2.000000</td>\n",
       "      <td>2.000000</td>\n",
       "      <td>5.000000</td>\n",
       "      <td>0.000000</td>\n",
       "      <td>0.000000</td>\n",
       "      <td>1.000000</td>\n",
       "      <td>2.000000</td>\n",
       "    </tr>\n",
       "    <tr>\n",
       "      <th>50%</th>\n",
       "      <td>14990.000000</td>\n",
       "      <td>2013.000000</td>\n",
       "      <td>6.000000</td>\n",
       "      <td>8.316000e+04</td>\n",
       "      <td>2.021043e+07</td>\n",
       "      <td>2.000000</td>\n",
       "      <td>2.000000</td>\n",
       "      <td>5.000000</td>\n",
       "      <td>2.000000</td>\n",
       "      <td>1.000000</td>\n",
       "      <td>1.000000</td>\n",
       "      <td>3.000000</td>\n",
       "    </tr>\n",
       "    <tr>\n",
       "      <th>75%</th>\n",
       "      <td>26990.000000</td>\n",
       "      <td>2017.000000</td>\n",
       "      <td>8.000000</td>\n",
       "      <td>1.340600e+05</td>\n",
       "      <td>2.021050e+07</td>\n",
       "      <td>3.000000</td>\n",
       "      <td>2.000000</td>\n",
       "      <td>5.000000</td>\n",
       "      <td>2.000000</td>\n",
       "      <td>2.000000</td>\n",
       "      <td>1.000000</td>\n",
       "      <td>4.000000</td>\n",
       "    </tr>\n",
       "    <tr>\n",
       "      <th>max</th>\n",
       "      <td>99999.000000</td>\n",
       "      <td>2022.000000</td>\n",
       "      <td>12.000000</td>\n",
       "      <td>1.000000e+07</td>\n",
       "      <td>2.021050e+07</td>\n",
       "      <td>5.000000</td>\n",
       "      <td>4.000000</td>\n",
       "      <td>5.000000</td>\n",
       "      <td>2.000000</td>\n",
       "      <td>2.000000</td>\n",
       "      <td>3.000000</td>\n",
       "      <td>5.000000</td>\n",
       "    </tr>\n",
       "  </tbody>\n",
       "</table>\n",
       "</div>"
      ],
      "text/plain": [
       "               price           year      cylinders      odometer  \\\n",
       "count  122035.000000  122035.000000  122035.000000  1.220350e+05   \n",
       "mean    17960.317335    2010.986709       6.420322  9.447312e+04   \n",
       "std     12936.055171       9.212154       1.657810  1.735817e+05   \n",
       "min      1057.000000    1900.000000       0.000000  0.000000e+00   \n",
       "25%      7194.000000    2008.000000       6.000000  3.442500e+04   \n",
       "50%     14990.000000    2013.000000       6.000000  8.316000e+04   \n",
       "75%     26990.000000    2017.000000       8.000000  1.340600e+05   \n",
       "max     99999.000000    2022.000000      12.000000  1.000000e+07   \n",
       "\n",
       "       posting_date      condition           fuel   title_status  \\\n",
       "count  1.220350e+05  122035.000000  122035.000000  122035.000000   \n",
       "mean   2.021044e+07       2.517663       1.803696       4.880559   \n",
       "std    3.785228e+01       0.701707       0.621409       0.629751   \n",
       "min    2.021040e+07       0.000000       0.000000       0.000000   \n",
       "25%    2.021042e+07       2.000000       2.000000       5.000000   \n",
       "50%    2.021043e+07       2.000000       2.000000       5.000000   \n",
       "75%    2.021050e+07       3.000000       2.000000       5.000000   \n",
       "max    2.021050e+07       5.000000       4.000000       5.000000   \n",
       "\n",
       "        transmission          drive           size    paint_color  \n",
       "count  122035.000000  122035.000000  122035.000000  122035.000000  \n",
       "mean        1.429090       0.989978       0.992904       2.969214  \n",
       "std         0.867508       0.799913       0.632535       1.252349  \n",
       "min         0.000000       0.000000       0.000000       1.000000  \n",
       "25%         0.000000       0.000000       1.000000       2.000000  \n",
       "50%         2.000000       1.000000       1.000000       3.000000  \n",
       "75%         2.000000       2.000000       1.000000       4.000000  \n",
       "max         2.000000       2.000000       3.000000       5.000000  "
      ]
     },
     "execution_count": 46,
     "metadata": {},
     "output_type": "execute_result"
    }
   ],
   "source": [
    "data_v9.describe()"
   ]
  },
  {
   "cell_type": "code",
   "execution_count": 47,
   "metadata": {},
   "outputs": [
    {
     "data": {
      "text/html": [
       "<div>\n",
       "<style scoped>\n",
       "    .dataframe tbody tr th:only-of-type {\n",
       "        vertical-align: middle;\n",
       "    }\n",
       "\n",
       "    .dataframe tbody tr th {\n",
       "        vertical-align: top;\n",
       "    }\n",
       "\n",
       "    .dataframe thead th {\n",
       "        text-align: right;\n",
       "    }\n",
       "</style>\n",
       "<table border=\"1\" class=\"dataframe\">\n",
       "  <thead>\n",
       "    <tr style=\"text-align: right;\">\n",
       "      <th></th>\n",
       "      <th>price</th>\n",
       "      <th>year</th>\n",
       "      <th>manufacturer</th>\n",
       "      <th>model</th>\n",
       "      <th>cylinders</th>\n",
       "      <th>odometer</th>\n",
       "      <th>type</th>\n",
       "      <th>posting_date</th>\n",
       "      <th>condition</th>\n",
       "      <th>fuel</th>\n",
       "      <th>title_status</th>\n",
       "      <th>transmission</th>\n",
       "      <th>drive</th>\n",
       "      <th>size</th>\n",
       "      <th>paint_color</th>\n",
       "    </tr>\n",
       "  </thead>\n",
       "  <tbody>\n",
       "    <tr>\n",
       "      <th>0</th>\n",
       "      <td>22590</td>\n",
       "      <td>2010.0</td>\n",
       "      <td>chevrolet</td>\n",
       "      <td>silverado 1500</td>\n",
       "      <td>8</td>\n",
       "      <td>71229.0</td>\n",
       "      <td>pickup</td>\n",
       "      <td>20210504</td>\n",
       "      <td>2.0</td>\n",
       "      <td>2.0</td>\n",
       "      <td>5.0</td>\n",
       "      <td>0.0</td>\n",
       "      <td>1.0</td>\n",
       "      <td>1.0</td>\n",
       "      <td>1.0</td>\n",
       "    </tr>\n",
       "    <tr>\n",
       "      <th>1</th>\n",
       "      <td>39590</td>\n",
       "      <td>2020.0</td>\n",
       "      <td>chevrolet</td>\n",
       "      <td>silverado 1500 crew</td>\n",
       "      <td>8</td>\n",
       "      <td>19160.0</td>\n",
       "      <td>pickup</td>\n",
       "      <td>20210504</td>\n",
       "      <td>2.0</td>\n",
       "      <td>2.0</td>\n",
       "      <td>5.0</td>\n",
       "      <td>0.0</td>\n",
       "      <td>1.0</td>\n",
       "      <td>1.0</td>\n",
       "      <td>2.0</td>\n",
       "    </tr>\n",
       "    <tr>\n",
       "      <th>2</th>\n",
       "      <td>30990</td>\n",
       "      <td>2017.0</td>\n",
       "      <td>toyota</td>\n",
       "      <td>tundra double cab sr</td>\n",
       "      <td>8</td>\n",
       "      <td>41124.0</td>\n",
       "      <td>pickup</td>\n",
       "      <td>20210504</td>\n",
       "      <td>2.0</td>\n",
       "      <td>2.0</td>\n",
       "      <td>5.0</td>\n",
       "      <td>0.0</td>\n",
       "      <td>1.0</td>\n",
       "      <td>1.0</td>\n",
       "      <td>2.0</td>\n",
       "    </tr>\n",
       "    <tr>\n",
       "      <th>3</th>\n",
       "      <td>15000</td>\n",
       "      <td>2013.0</td>\n",
       "      <td>ford</td>\n",
       "      <td>f-150 xlt</td>\n",
       "      <td>6</td>\n",
       "      <td>128000.0</td>\n",
       "      <td>truck</td>\n",
       "      <td>20210503</td>\n",
       "      <td>3.0</td>\n",
       "      <td>2.0</td>\n",
       "      <td>5.0</td>\n",
       "      <td>2.0</td>\n",
       "      <td>1.0</td>\n",
       "      <td>1.0</td>\n",
       "      <td>3.0</td>\n",
       "    </tr>\n",
       "    <tr>\n",
       "      <th>4</th>\n",
       "      <td>27990</td>\n",
       "      <td>2012.0</td>\n",
       "      <td>gmc</td>\n",
       "      <td>sierra 2500 hd extended cab</td>\n",
       "      <td>8</td>\n",
       "      <td>68696.0</td>\n",
       "      <td>pickup</td>\n",
       "      <td>20210503</td>\n",
       "      <td>2.0</td>\n",
       "      <td>2.0</td>\n",
       "      <td>5.0</td>\n",
       "      <td>0.0</td>\n",
       "      <td>2.0</td>\n",
       "      <td>1.0</td>\n",
       "      <td>3.0</td>\n",
       "    </tr>\n",
       "    <tr>\n",
       "      <th>...</th>\n",
       "      <td>...</td>\n",
       "      <td>...</td>\n",
       "      <td>...</td>\n",
       "      <td>...</td>\n",
       "      <td>...</td>\n",
       "      <td>...</td>\n",
       "      <td>...</td>\n",
       "      <td>...</td>\n",
       "      <td>...</td>\n",
       "      <td>...</td>\n",
       "      <td>...</td>\n",
       "      <td>...</td>\n",
       "      <td>...</td>\n",
       "      <td>...</td>\n",
       "      <td>...</td>\n",
       "    </tr>\n",
       "    <tr>\n",
       "      <th>122030</th>\n",
       "      <td>34590</td>\n",
       "      <td>2020.0</td>\n",
       "      <td>alfa-romeo</td>\n",
       "      <td>romeo giulia sedan 4d</td>\n",
       "      <td>8</td>\n",
       "      <td>2498.0</td>\n",
       "      <td>sedan</td>\n",
       "      <td>20210405</td>\n",
       "      <td>2.0</td>\n",
       "      <td>0.0</td>\n",
       "      <td>5.0</td>\n",
       "      <td>0.0</td>\n",
       "      <td>1.0</td>\n",
       "      <td>1.0</td>\n",
       "      <td>3.0</td>\n",
       "    </tr>\n",
       "    <tr>\n",
       "      <th>122031</th>\n",
       "      <td>32990</td>\n",
       "      <td>2016.0</td>\n",
       "      <td>infiniti</td>\n",
       "      <td>qx80 sport utility 4d</td>\n",
       "      <td>8</td>\n",
       "      <td>55612.0</td>\n",
       "      <td>other</td>\n",
       "      <td>20210405</td>\n",
       "      <td>2.0</td>\n",
       "      <td>2.0</td>\n",
       "      <td>5.0</td>\n",
       "      <td>2.0</td>\n",
       "      <td>1.0</td>\n",
       "      <td>1.0</td>\n",
       "      <td>3.0</td>\n",
       "    </tr>\n",
       "    <tr>\n",
       "      <th>122032</th>\n",
       "      <td>22990</td>\n",
       "      <td>2020.0</td>\n",
       "      <td>hyundai</td>\n",
       "      <td>sonata se sedan 4d</td>\n",
       "      <td>8</td>\n",
       "      <td>3066.0</td>\n",
       "      <td>sedan</td>\n",
       "      <td>20210404</td>\n",
       "      <td>2.0</td>\n",
       "      <td>2.0</td>\n",
       "      <td>5.0</td>\n",
       "      <td>0.0</td>\n",
       "      <td>0.0</td>\n",
       "      <td>1.0</td>\n",
       "      <td>1.0</td>\n",
       "    </tr>\n",
       "    <tr>\n",
       "      <th>122033</th>\n",
       "      <td>30590</td>\n",
       "      <td>2020.0</td>\n",
       "      <td>volvo</td>\n",
       "      <td>s60 t5 momentum sedan 4d</td>\n",
       "      <td>8</td>\n",
       "      <td>12029.0</td>\n",
       "      <td>sedan</td>\n",
       "      <td>20210404</td>\n",
       "      <td>2.0</td>\n",
       "      <td>2.0</td>\n",
       "      <td>5.0</td>\n",
       "      <td>0.0</td>\n",
       "      <td>0.0</td>\n",
       "      <td>1.0</td>\n",
       "      <td>2.0</td>\n",
       "    </tr>\n",
       "    <tr>\n",
       "      <th>122034</th>\n",
       "      <td>28990</td>\n",
       "      <td>2018.0</td>\n",
       "      <td>lexus</td>\n",
       "      <td>es 350 sedan 4d</td>\n",
       "      <td>6</td>\n",
       "      <td>30112.0</td>\n",
       "      <td>sedan</td>\n",
       "      <td>20210404</td>\n",
       "      <td>2.0</td>\n",
       "      <td>2.0</td>\n",
       "      <td>5.0</td>\n",
       "      <td>0.0</td>\n",
       "      <td>0.0</td>\n",
       "      <td>1.0</td>\n",
       "      <td>4.0</td>\n",
       "    </tr>\n",
       "  </tbody>\n",
       "</table>\n",
       "<p>122035 rows × 15 columns</p>\n",
       "</div>"
      ],
      "text/plain": [
       "        price    year manufacturer                        model  cylinders  \\\n",
       "0       22590  2010.0    chevrolet               silverado 1500          8   \n",
       "1       39590  2020.0    chevrolet          silverado 1500 crew          8   \n",
       "2       30990  2017.0       toyota         tundra double cab sr          8   \n",
       "3       15000  2013.0         ford                    f-150 xlt          6   \n",
       "4       27990  2012.0          gmc  sierra 2500 hd extended cab          8   \n",
       "...       ...     ...          ...                          ...        ...   \n",
       "122030  34590  2020.0   alfa-romeo        romeo giulia sedan 4d          8   \n",
       "122031  32990  2016.0     infiniti        qx80 sport utility 4d          8   \n",
       "122032  22990  2020.0      hyundai           sonata se sedan 4d          8   \n",
       "122033  30590  2020.0        volvo     s60 t5 momentum sedan 4d          8   \n",
       "122034  28990  2018.0        lexus              es 350 sedan 4d          6   \n",
       "\n",
       "        odometer    type  posting_date  condition  fuel  title_status  \\\n",
       "0        71229.0  pickup      20210504        2.0   2.0           5.0   \n",
       "1        19160.0  pickup      20210504        2.0   2.0           5.0   \n",
       "2        41124.0  pickup      20210504        2.0   2.0           5.0   \n",
       "3       128000.0   truck      20210503        3.0   2.0           5.0   \n",
       "4        68696.0  pickup      20210503        2.0   2.0           5.0   \n",
       "...          ...     ...           ...        ...   ...           ...   \n",
       "122030    2498.0   sedan      20210405        2.0   0.0           5.0   \n",
       "122031   55612.0   other      20210405        2.0   2.0           5.0   \n",
       "122032    3066.0   sedan      20210404        2.0   2.0           5.0   \n",
       "122033   12029.0   sedan      20210404        2.0   2.0           5.0   \n",
       "122034   30112.0   sedan      20210404        2.0   2.0           5.0   \n",
       "\n",
       "        transmission  drive  size  paint_color  \n",
       "0                0.0    1.0   1.0          1.0  \n",
       "1                0.0    1.0   1.0          2.0  \n",
       "2                0.0    1.0   1.0          2.0  \n",
       "3                2.0    1.0   1.0          3.0  \n",
       "4                0.0    2.0   1.0          3.0  \n",
       "...              ...    ...   ...          ...  \n",
       "122030           0.0    1.0   1.0          3.0  \n",
       "122031           2.0    1.0   1.0          3.0  \n",
       "122032           0.0    0.0   1.0          1.0  \n",
       "122033           0.0    0.0   1.0          2.0  \n",
       "122034           0.0    0.0   1.0          4.0  \n",
       "\n",
       "[122035 rows x 15 columns]"
      ]
     },
     "execution_count": 47,
     "metadata": {},
     "output_type": "execute_result"
    }
   ],
   "source": [
    "data_v9_2 = data_v9.reset_index(drop= True)\n",
    "data_v9_2"
   ]
  },
  {
   "cell_type": "markdown",
   "metadata": {},
   "source": [
    "This is our preprocessed data. We will use this for training."
   ]
  },
  {
   "cell_type": "code",
   "execution_count": 48,
   "metadata": {},
   "outputs": [],
   "source": [
    "data_v9_2.to_csv('..\\data\\data_for_app.csv', index=False)"
   ]
  },
  {
   "cell_type": "markdown",
   "metadata": {},
   "source": [
    "## Trying out CatBoost for high cardinality features"
   ]
  },
  {
   "cell_type": "markdown",
   "metadata": {},
   "source": [
    "The preprocessed data still has 3 categorical features, which are high cardinality features. If we one-hot encode them, it gives us dataset with very large number of columns. This causes memory issues while training. Hence, we will use CatBoost, which can internally handle categorical features."
   ]
  },
  {
   "cell_type": "code",
   "execution_count": 49,
   "metadata": {},
   "outputs": [],
   "source": [
    "# Seed is used for randomization of processes. With the same seed, we can always reproduce the results.\n",
    "SEED = 256"
   ]
  },
  {
   "cell_type": "code",
   "execution_count": 50,
   "metadata": {},
   "outputs": [],
   "source": [
    "# Function to print required metrics\n",
    "def print_scores(y_train, y_valid, y_pred_train, y_pred_valid):\n",
    "    train_score = r2_score(y_train, y_pred_train)\n",
    "    print('------ Train Scores ------')\n",
    "    print('R2 Score:', train_score)\n",
    "\n",
    "    print('Mean Absolute Error:', metrics.mean_absolute_error(y_train, y_pred_train))\n",
    "    print('Mean Squared Error:', metrics.mean_squared_error(y_train, y_pred_train))\n",
    "    print('Root Mean Squared Error:', np.sqrt(metrics.mean_squared_error(y_train, y_pred_train)))\n",
    "\n",
    "    valid_score = r2_score(y_valid, y_pred_valid)\n",
    "    print('------ Validation Scores ------')\n",
    "    print('R2 Score:', valid_score)\n",
    "\n",
    "    print('Mean Absolute Error:', metrics.mean_absolute_error(y_valid, y_pred_valid))\n",
    "    print('Mean Squared Error:', metrics.mean_squared_error(y_valid, y_pred_valid))\n",
    "    print('Root Mean Squared Error:', np.sqrt(metrics.mean_squared_error(y_valid, y_pred_valid)))"
   ]
  },
  {
   "cell_type": "markdown",
   "metadata": {},
   "source": [
    "### Cross Validation"
   ]
  },
  {
   "cell_type": "code",
   "execution_count": 51,
   "metadata": {},
   "outputs": [],
   "source": [
    "# %%time\n",
    "\n",
    "# params = {'depth':4,\n",
    "#           'reg_lambda':6,\n",
    "#           'loss_function':'RMSE',\n",
    "#           'eval_metric':'RMSE',\n",
    "#           'cat_features':cat_features,\n",
    "#           'task_type':'GPU',\n",
    "#           'verbose':200,\n",
    "#           'random_seed':SEED}\n",
    "\n",
    "# all_train_data = Pool(data=data_v6.drop('price', axis=1), label=data_v6['price'], cat_features=cat_features)\n",
    "\n",
    "# scores = cv(pool=all_train_data,\n",
    "#             params=params,\n",
    "#             fold_count=4,\n",
    "#             seed=SEED,\n",
    "#             shuffle=True,\n",
    "#             stratified=True,\n",
    "#             plot=True)"
   ]
  },
  {
   "cell_type": "markdown",
   "metadata": {},
   "source": [
    "### Default catboost"
   ]
  },
  {
   "cell_type": "code",
   "execution_count": 52,
   "metadata": {},
   "outputs": [
    {
     "data": {
      "text/html": [
       "<div>\n",
       "<style scoped>\n",
       "    .dataframe tbody tr th:only-of-type {\n",
       "        vertical-align: middle;\n",
       "    }\n",
       "\n",
       "    .dataframe tbody tr th {\n",
       "        vertical-align: top;\n",
       "    }\n",
       "\n",
       "    .dataframe thead th {\n",
       "        text-align: right;\n",
       "    }\n",
       "</style>\n",
       "<table border=\"1\" class=\"dataframe\">\n",
       "  <thead>\n",
       "    <tr style=\"text-align: right;\">\n",
       "      <th></th>\n",
       "      <th>price</th>\n",
       "      <th>year</th>\n",
       "      <th>manufacturer</th>\n",
       "      <th>model</th>\n",
       "      <th>cylinders</th>\n",
       "      <th>odometer</th>\n",
       "      <th>type</th>\n",
       "      <th>posting_date</th>\n",
       "      <th>condition</th>\n",
       "      <th>fuel</th>\n",
       "      <th>title_status</th>\n",
       "      <th>transmission</th>\n",
       "      <th>drive</th>\n",
       "      <th>size</th>\n",
       "      <th>paint_color</th>\n",
       "    </tr>\n",
       "  </thead>\n",
       "  <tbody>\n",
       "    <tr>\n",
       "      <th>0</th>\n",
       "      <td>22590</td>\n",
       "      <td>2010.0</td>\n",
       "      <td>chevrolet</td>\n",
       "      <td>silverado 1500</td>\n",
       "      <td>8</td>\n",
       "      <td>71229.0</td>\n",
       "      <td>pickup</td>\n",
       "      <td>20210504</td>\n",
       "      <td>2.0</td>\n",
       "      <td>2.0</td>\n",
       "      <td>5.0</td>\n",
       "      <td>0.0</td>\n",
       "      <td>1.0</td>\n",
       "      <td>1.0</td>\n",
       "      <td>1.0</td>\n",
       "    </tr>\n",
       "    <tr>\n",
       "      <th>1</th>\n",
       "      <td>39590</td>\n",
       "      <td>2020.0</td>\n",
       "      <td>chevrolet</td>\n",
       "      <td>silverado 1500 crew</td>\n",
       "      <td>8</td>\n",
       "      <td>19160.0</td>\n",
       "      <td>pickup</td>\n",
       "      <td>20210504</td>\n",
       "      <td>2.0</td>\n",
       "      <td>2.0</td>\n",
       "      <td>5.0</td>\n",
       "      <td>0.0</td>\n",
       "      <td>1.0</td>\n",
       "      <td>1.0</td>\n",
       "      <td>2.0</td>\n",
       "    </tr>\n",
       "    <tr>\n",
       "      <th>2</th>\n",
       "      <td>30990</td>\n",
       "      <td>2017.0</td>\n",
       "      <td>toyota</td>\n",
       "      <td>tundra double cab sr</td>\n",
       "      <td>8</td>\n",
       "      <td>41124.0</td>\n",
       "      <td>pickup</td>\n",
       "      <td>20210504</td>\n",
       "      <td>2.0</td>\n",
       "      <td>2.0</td>\n",
       "      <td>5.0</td>\n",
       "      <td>0.0</td>\n",
       "      <td>1.0</td>\n",
       "      <td>1.0</td>\n",
       "      <td>2.0</td>\n",
       "    </tr>\n",
       "    <tr>\n",
       "      <th>3</th>\n",
       "      <td>15000</td>\n",
       "      <td>2013.0</td>\n",
       "      <td>ford</td>\n",
       "      <td>f-150 xlt</td>\n",
       "      <td>6</td>\n",
       "      <td>128000.0</td>\n",
       "      <td>truck</td>\n",
       "      <td>20210503</td>\n",
       "      <td>3.0</td>\n",
       "      <td>2.0</td>\n",
       "      <td>5.0</td>\n",
       "      <td>2.0</td>\n",
       "      <td>1.0</td>\n",
       "      <td>1.0</td>\n",
       "      <td>3.0</td>\n",
       "    </tr>\n",
       "    <tr>\n",
       "      <th>4</th>\n",
       "      <td>27990</td>\n",
       "      <td>2012.0</td>\n",
       "      <td>gmc</td>\n",
       "      <td>sierra 2500 hd extended cab</td>\n",
       "      <td>8</td>\n",
       "      <td>68696.0</td>\n",
       "      <td>pickup</td>\n",
       "      <td>20210503</td>\n",
       "      <td>2.0</td>\n",
       "      <td>2.0</td>\n",
       "      <td>5.0</td>\n",
       "      <td>0.0</td>\n",
       "      <td>2.0</td>\n",
       "      <td>1.0</td>\n",
       "      <td>3.0</td>\n",
       "    </tr>\n",
       "  </tbody>\n",
       "</table>\n",
       "</div>"
      ],
      "text/plain": [
       "   price    year manufacturer                        model  cylinders  \\\n",
       "0  22590  2010.0    chevrolet               silverado 1500          8   \n",
       "1  39590  2020.0    chevrolet          silverado 1500 crew          8   \n",
       "2  30990  2017.0       toyota         tundra double cab sr          8   \n",
       "3  15000  2013.0         ford                    f-150 xlt          6   \n",
       "4  27990  2012.0          gmc  sierra 2500 hd extended cab          8   \n",
       "\n",
       "   odometer    type  posting_date  condition  fuel  title_status  \\\n",
       "0   71229.0  pickup      20210504        2.0   2.0           5.0   \n",
       "1   19160.0  pickup      20210504        2.0   2.0           5.0   \n",
       "2   41124.0  pickup      20210504        2.0   2.0           5.0   \n",
       "3  128000.0   truck      20210503        3.0   2.0           5.0   \n",
       "4   68696.0  pickup      20210503        2.0   2.0           5.0   \n",
       "\n",
       "   transmission  drive  size  paint_color  \n",
       "0           0.0    1.0   1.0          1.0  \n",
       "1           0.0    1.0   1.0          2.0  \n",
       "2           0.0    1.0   1.0          2.0  \n",
       "3           2.0    1.0   1.0          3.0  \n",
       "4           0.0    2.0   1.0          3.0  "
      ]
     },
     "execution_count": 52,
     "metadata": {},
     "output_type": "execute_result"
    }
   ],
   "source": [
    "data_v9_2.head()"
   ]
  },
  {
   "cell_type": "code",
   "execution_count": 53,
   "metadata": {},
   "outputs": [
    {
     "name": "stdout",
     "output_type": "stream",
     "text": [
      "<class 'pandas.core.frame.DataFrame'>\n",
      "RangeIndex: 122035 entries, 0 to 122034\n",
      "Data columns (total 14 columns):\n",
      " #   Column        Non-Null Count   Dtype  \n",
      "---  ------        --------------   -----  \n",
      " 0   year          122035 non-null  float64\n",
      " 1   manufacturer  122035 non-null  object \n",
      " 2   model         122035 non-null  object \n",
      " 3   cylinders     122035 non-null  int64  \n",
      " 4   odometer      122035 non-null  float64\n",
      " 5   type          122035 non-null  object \n",
      " 6   posting_date  122035 non-null  int64  \n",
      " 7   condition     122035 non-null  float64\n",
      " 8   fuel          122035 non-null  float64\n",
      " 9   title_status  122035 non-null  float64\n",
      " 10  transmission  122035 non-null  float64\n",
      " 11  drive         122035 non-null  float64\n",
      " 12  size          122035 non-null  float64\n",
      " 13  paint_color   122035 non-null  float64\n",
      "dtypes: float64(9), int64(2), object(3)\n",
      "memory usage: 13.0+ MB\n"
     ]
    }
   ],
   "source": [
    "data_v9_2.drop('price', axis=1).info()"
   ]
  },
  {
   "cell_type": "markdown",
   "metadata": {},
   "source": [
    "Split into train and validation sets"
   ]
  },
  {
   "cell_type": "code",
   "execution_count": 54,
   "metadata": {},
   "outputs": [],
   "source": [
    "X_train, X_valid, y_train, y_valid = train_test_split(data_v9_2.drop('price', axis=1), data_v9_2['price'], test_size=0.2, random_state=SEED)"
   ]
  },
  {
   "cell_type": "markdown",
   "metadata": {},
   "source": [
    "Catboost requires to know which features are categorical. For this, we need to provide the indices of categorical features."
   ]
  },
  {
   "cell_type": "code",
   "execution_count": 55,
   "metadata": {},
   "outputs": [
    {
     "data": {
      "text/plain": [
       "[1, 2, 5]"
      ]
     },
     "execution_count": 55,
     "metadata": {},
     "output_type": "execute_result"
    }
   ],
   "source": [
    "cat_features = [1, 2, 5]\n",
    "cat_features"
   ]
  },
  {
   "cell_type": "markdown",
   "metadata": {},
   "source": [
    "Pool is a datatype from Catboost to efficiently handle datasets"
   ]
  },
  {
   "cell_type": "code",
   "execution_count": 56,
   "metadata": {},
   "outputs": [],
   "source": [
    "train_data = Pool(data=X_train, label=y_train, cat_features=cat_features)\n",
    "valid_data = Pool(data=X_valid, label=y_valid, cat_features=cat_features)"
   ]
  },
  {
   "cell_type": "markdown",
   "metadata": {},
   "source": [
    "Let us now run a default Catboost model"
   ]
  },
  {
   "cell_type": "code",
   "execution_count": 57,
   "metadata": {},
   "outputs": [
    {
     "data": {
      "application/vnd.jupyter.widget-view+json": {
       "model_id": "748bd2b738004b9d9ce014b8647a58fd",
       "version_major": 2,
       "version_minor": 0
      },
      "text/plain": [
       "MetricVisualizer(layout=Layout(align_self='stretch', height='500px'))"
      ]
     },
     "metadata": {},
     "output_type": "display_data"
    },
    {
     "name": "stdout",
     "output_type": "stream",
     "text": [
      "Learning rate set to 0.101856\n",
      "0:\tlearn: 12096.4114493\ttest: 12068.4966446\tbest: 12068.4966446 (0)\ttotal: 84.9ms\tremaining: 1m 24s\n",
      "200:\tlearn: 4923.6145671\ttest: 5058.3809433\tbest: 5058.3809433 (200)\ttotal: 6.5s\tremaining: 25.9s\n",
      "400:\tlearn: 4554.6195533\ttest: 4768.7442987\tbest: 4768.7442987 (400)\ttotal: 12.8s\tremaining: 19.1s\n",
      "600:\tlearn: 4326.8829013\ttest: 4601.6471324\tbest: 4601.6471324 (600)\ttotal: 18.4s\tremaining: 12.2s\n",
      "800:\tlearn: 4155.7652329\ttest: 4490.2289069\tbest: 4490.2167975 (799)\ttotal: 24.3s\tremaining: 6.04s\n",
      "999:\tlearn: 4023.6002359\ttest: 4410.8578200\tbest: 4410.8578200 (999)\ttotal: 30.1s\tremaining: 0us\n",
      "bestTest = 4410.85782\n",
      "bestIteration = 999\n",
      "CPU times: total: 48 s\n",
      "Wall time: 34.8 s\n"
     ]
    },
    {
     "data": {
      "text/plain": [
       "<catboost.core.CatBoostRegressor at 0x21ab7ccabe0>"
      ]
     },
     "execution_count": 57,
     "metadata": {},
     "output_type": "execute_result"
    }
   ],
   "source": [
    "%%time\n",
    "\n",
    "cbr_def = CatBoostRegressor(task_type='GPU', verbose=200, random_seed=SEED)\n",
    "# task_type --> we can specify to use GPU\n",
    "# verbose --> select after how many iterations we want to see scores\n",
    "# Rest parameters are set to default\n",
    "\n",
    "cbr_def.fit(train_data,\n",
    "          eval_set=valid_data,\n",
    "          use_best_model=True,\n",
    "          plot=True)\n",
    "# eval_set --> specify validation set which is used for overfit detection\n",
    "# use_best_model --> this is available only when eval_set is specified. Use the best model after overfit detection\n",
    "# plot --> True for visualizing plots"
   ]
  },
  {
   "cell_type": "markdown",
   "metadata": {},
   "source": [
    "Predict and score on train and validation set"
   ]
  },
  {
   "cell_type": "code",
   "execution_count": 58,
   "metadata": {},
   "outputs": [
    {
     "name": "stdout",
     "output_type": "stream",
     "text": [
      "------ Train Scores ------\n",
      "R2 Score: 0.9097468080716167\n",
      "Mean Absolute Error: 2383.023593393443\n",
      "Mean Squared Error: 15118940.54137672\n",
      "Root Mean Squared Error: 3888.3081849792616\n",
      "------ Validation Scores ------\n",
      "R2 Score: 0.8832416641310437\n",
      "Mean Absolute Error: 2570.2200703281555\n",
      "Mean Squared Error: 19455668.740811363\n",
      "Root Mean Squared Error: 4410.858050403726\n"
     ]
    }
   ],
   "source": [
    "y_pred_train_cbr_def = cbr_def.predict(train_data)\n",
    "y_pred_valid_cbr_def = cbr_def.predict(valid_data)\n",
    "\n",
    "print_scores(y_train, y_valid, y_pred_train_cbr_def, y_pred_valid_cbr_def)"
   ]
  },
  {
   "cell_type": "markdown",
   "metadata": {},
   "source": [
    "### Catboost randomized grid search on data_v9_2"
   ]
  },
  {
   "cell_type": "markdown",
   "metadata": {},
   "source": [
    "Let us now do hyper-parameter tuning. For large datasets, it is convenient to use RandomizedSearch instead of GridSearch. The results depend on parameters chosen randomly, but it is efficient time-wise for large datasets."
   ]
  },
  {
   "cell_type": "code",
   "execution_count": 59,
   "metadata": {},
   "outputs": [
    {
     "data": {
      "application/vnd.jupyter.widget-view+json": {
       "model_id": "cc99296e7530429cac43969f546d1e5b",
       "version_major": 2,
       "version_minor": 0
      },
      "text/plain": [
       "MetricVisualizer(layout=Layout(align_self='stretch', height='500px'))"
      ]
     },
     "metadata": {},
     "output_type": "display_data"
    },
    {
     "name": "stdout",
     "output_type": "stream",
     "text": [
      "0:\tlearn: 21978.4149458\ttest: 21891.8806220\tbest: 21891.8806220 (0)\ttotal: 30ms\tremaining: 22.5s\n",
      "200:\tlearn: 8283.1287921\ttest: 8213.5335135\tbest: 8213.5335135 (200)\ttotal: 5.88s\tremaining: 16.1s\n",
      "400:\tlearn: 6959.2810233\ttest: 6859.4317399\tbest: 6859.4317399 (400)\ttotal: 11.8s\tremaining: 10.3s\n",
      "600:\tlearn: 6647.1923651\ttest: 6537.5942414\tbest: 6537.5942414 (600)\ttotal: 17s\tremaining: 4.22s\n",
      "749:\tlearn: 6519.6072864\ttest: 6409.4620948\tbest: 6409.4620948 (749)\ttotal: 20.8s\tremaining: 0us\n",
      "bestTest = 6409.462095\n",
      "bestIteration = 749\n",
      "0:\tloss: 6409.4620948\tbest: 6409.4620948 (0)\ttotal: 21.1s\tremaining: 3m 9s\n",
      "0:\tlearn: 21208.9391453\ttest: 21124.7722809\tbest: 21124.7722809 (0)\ttotal: 40.3ms\tremaining: 10s\n",
      "200:\tlearn: 5800.1467715\ttest: 5708.2700964\tbest: 5708.2700964 (200)\ttotal: 7.53s\tremaining: 1.84s\n",
      "249:\tlearn: 5682.1343548\ttest: 5595.0186780\tbest: 5595.0186780 (249)\ttotal: 9.42s\tremaining: 0us\n",
      "bestTest = 5595.018678\n",
      "bestIteration = 249\n",
      "1:\tloss: 5595.0186780\tbest: 5595.0186780 (1)\ttotal: 30.7s\tremaining: 2m 2s\n",
      "0:\tlearn: 20264.3466733\ttest: 20182.9967145\tbest: 20182.9967145 (0)\ttotal: 34.3ms\tremaining: 8.55s\n",
      "200:\tlearn: 5466.1642611\ttest: 5388.9680342\tbest: 5388.9680342 (200)\ttotal: 8.23s\tremaining: 2.01s\n",
      "249:\tlearn: 5362.5394736\ttest: 5290.1289763\tbest: 5290.1289763 (249)\ttotal: 10.2s\tremaining: 0us\n",
      "bestTest = 5290.128976\n",
      "bestIteration = 249\n",
      "2:\tloss: 5290.1289763\tbest: 5290.1289763 (2)\ttotal: 41s\tremaining: 1m 35s\n",
      "0:\tlearn: 21589.0543069\ttest: 21503.7490218\tbest: 21503.7490218 (0)\ttotal: 38ms\tremaining: 19s\n",
      "200:\tlearn: 6081.0343488\ttest: 5986.0378185\tbest: 5986.0378185 (200)\ttotal: 7.94s\tremaining: 11.8s\n",
      "400:\tlearn: 5705.0474470\ttest: 5615.9268563\tbest: 5615.9268563 (400)\ttotal: 14.9s\tremaining: 3.69s\n",
      "499:\tlearn: 5590.4905773\ttest: 5503.0286535\tbest: 5503.0286535 (499)\ttotal: 18.6s\tremaining: 0us\n",
      "bestTest = 5503.028654\n",
      "bestIteration = 499\n",
      "3:\tloss: 5503.0286535\tbest: 5290.1289763 (2)\ttotal: 59.8s\tremaining: 1m 29s\n",
      "0:\tlearn: 21590.5330786\ttest: 21486.6818760\tbest: 21486.6818760 (0)\ttotal: 40ms\tremaining: 30s\n",
      "200:\tlearn: 6059.4935765\ttest: 5969.0251253\tbest: 5969.0251253 (200)\ttotal: 7.36s\tremaining: 20.1s\n",
      "400:\tlearn: 5687.1648838\ttest: 5608.1224307\tbest: 5608.1224307 (400)\ttotal: 14.7s\tremaining: 12.8s\n",
      "600:\tlearn: 5481.7315917\ttest: 5411.5033560\tbest: 5411.5033560 (600)\ttotal: 22s\tremaining: 5.45s\n",
      "749:\tlearn: 5371.7236254\ttest: 5307.4252702\tbest: 5307.3376839 (748)\ttotal: 27.6s\tremaining: 0us\n",
      "bestTest = 5307.337684\n",
      "bestIteration = 748\n",
      "4:\tloss: 5307.3376839\tbest: 5290.1289763 (2)\ttotal: 1m 27s\tremaining: 1m 27s\n",
      "0:\tlearn: 21589.0543069\ttest: 21503.7490218\tbest: 21503.7490218 (0)\ttotal: 37.1ms\tremaining: 27.8s\n",
      "200:\tlearn: 6081.0343488\ttest: 5986.0378185\tbest: 5986.0378185 (200)\ttotal: 7.48s\tremaining: 20.4s\n",
      "400:\tlearn: 5705.0474470\ttest: 5615.9268563\tbest: 5615.9268563 (400)\ttotal: 14.6s\tremaining: 12.7s\n",
      "600:\tlearn: 5499.0196984\ttest: 5418.9746911\tbest: 5418.9746911 (600)\ttotal: 22.2s\tremaining: 5.51s\n",
      "749:\tlearn: 5402.6814439\ttest: 5330.3994826\tbest: 5330.3994826 (749)\ttotal: 27.8s\tremaining: 0us\n",
      "bestTest = 5330.399483\n",
      "bestIteration = 749\n",
      "5:\tloss: 5330.3994826\tbest: 5290.1289763 (2)\ttotal: 1m 55s\tremaining: 1m 17s\n",
      "0:\tlearn: 21177.6276532\ttest: 21093.5976084\tbest: 21093.5976084 (0)\ttotal: 52.4ms\tremaining: 7.81s\n",
      "149:\tlearn: 5304.8986651\ttest: 5285.0737664\tbest: 5285.0323285 (148)\ttotal: 7.32s\tremaining: 0us\n",
      "bestTest = 5285.032329\n",
      "bestIteration = 148\n",
      "6:\tloss: 5285.0323285\tbest: 5285.0323285 (6)\ttotal: 2m 3s\tremaining: 52.7s\n",
      "0:\tlearn: 21965.2127485\ttest: 21878.6216379\tbest: 21878.6216379 (0)\ttotal: 85.5ms\tremaining: 1m 4s\n",
      "200:\tlearn: 6899.6654479\ttest: 6833.9177442\tbest: 6833.9177442 (200)\ttotal: 17s\tremaining: 46.5s\n",
      "400:\tlearn: 5651.5833761\ttest: 5601.2057291\tbest: 5601.2057291 (400)\ttotal: 33.7s\tremaining: 29.3s\n",
      "600:\tlearn: 5382.3904969\ttest: 5336.9955095\tbest: 5336.9955095 (600)\ttotal: 50.4s\tremaining: 12.5s\n",
      "749:\tlearn: 5296.0777628\ttest: 5251.0708483\tbest: 5251.0703689 (747)\ttotal: 1m 1s\tremaining: 0us\n",
      "bestTest = 5251.070369\n",
      "bestIteration = 747\n",
      "7:\tloss: 5251.0703689\tbest: 5251.0703689 (7)\ttotal: 3m 4s\tremaining: 46.2s\n",
      "0:\tlearn: 21569.8658648\ttest: 21484.5836166\tbest: 21484.5836166 (0)\ttotal: 100ms\tremaining: 14.9s\n",
      "149:\tlearn: 5419.5126124\ttest: 5439.3850337\tbest: 5439.3850337 (149)\ttotal: 17.2s\tremaining: 0us\n",
      "bestTest = 5439.385034\n",
      "bestIteration = 149\n",
      "8:\tloss: 5439.3850337\tbest: 5251.0703689 (7)\ttotal: 3m 22s\tremaining: 22.5s\n",
      "0:\tlearn: 20219.8978553\ttest: 20137.9621566\tbest: 20137.9621566 (0)\ttotal: 104ms\tremaining: 52s\n",
      "200:\tlearn: 4817.6069454\ttest: 4838.8475961\tbest: 4838.8475961 (200)\ttotal: 23.9s\tremaining: 35.5s\n",
      "400:\tlearn: 4680.8136899\ttest: 4721.6187330\tbest: 4721.6183776 (397)\ttotal: 35.4s\tremaining: 8.75s\n",
      "499:\tlearn: 4663.3036403\ttest: 4706.8270200\tbest: 4706.8270200 (498)\ttotal: 39.5s\tremaining: 0us\n",
      "bestTest = 4706.82702\n",
      "bestIteration = 498\n",
      "9:\tloss: 4706.8270200\tbest: 4706.8270200 (9)\ttotal: 4m 1s\tremaining: 0us\n",
      "Estimating final quality...\n",
      "Training on fold [0/3]\n",
      "0:\tlearn: 20149.4958461\ttest: 20319.5950446\tbest: 20319.5950446 (0)\ttotal: 172ms\tremaining: 1m 25s\n",
      "200:\tlearn: 4760.0138685\ttest: 4948.9487634\tbest: 4948.9487634 (199)\ttotal: 26.8s\tremaining: 39.9s\n",
      "400:\tlearn: 4712.0412758\ttest: 4910.2390271\tbest: 4910.2390271 (400)\ttotal: 34s\tremaining: 8.4s\n",
      "499:\tlearn: 4685.1535930\ttest: 4894.8860705\tbest: 4894.8811335 (453)\ttotal: 37.4s\tremaining: 0us\n",
      "bestTest = 4894.881134\n",
      "bestIteration = 453\n",
      "Training on fold [1/3]\n",
      "0:\tlearn: 20238.9988761\ttest: 20128.6962128\tbest: 20128.6962128 (0)\ttotal: 170ms\tremaining: 1m 24s\n",
      "200:\tlearn: 4832.4096517\ttest: 4900.0515359\tbest: 4900.0515359 (198)\ttotal: 25s\tremaining: 37.2s\n",
      "400:\tlearn: 4711.8854911\ttest: 4811.7531961\tbest: 4811.7529869 (399)\ttotal: 35s\tremaining: 8.65s\n",
      "499:\tlearn: 4678.2384080\ttest: 4790.4545225\tbest: 4790.4541021 (494)\ttotal: 39s\tremaining: 0us\n",
      "bestTest = 4790.454102\n",
      "bestIteration = 494\n",
      "Training on fold [2/3]\n",
      "0:\tlearn: 20232.2934401\ttest: 20150.3246704\tbest: 20150.3246704 (0)\ttotal: 75.6ms\tremaining: 37.7s\n",
      "200:\tlearn: 4924.5198432\ttest: 4996.1348905\tbest: 4996.1308596 (199)\ttotal: 21.2s\tremaining: 31.5s\n",
      "400:\tlearn: 4714.3164350\ttest: 4824.7665536\tbest: 4824.7277347 (376)\ttotal: 32.5s\tremaining: 8.02s\n",
      "499:\tlearn: 4678.5791154\ttest: 4799.3450478\tbest: 4799.3431595 (497)\ttotal: 36.1s\tremaining: 0us\n",
      "bestTest = 4799.34316\n",
      "bestIteration = 497\n"
     ]
    }
   ],
   "source": [
    "param_grid = {'learning_rate':[0.01, 0.03, 0.05, 0.1],\n",
    "        'depth':[2, 4, 6, 8, 10],\n",
    "        'l2_leaf_reg':[1, 3, 5, 7, 9, 11],\n",
    "        'iterations':[150, 250, 500, 750]}\n",
    "\n",
    "cbr_rgs = CatBoostRegressor(task_type='GPU', verbose=200, random_seed=SEED)\n",
    "\n",
    "random_grid_search_result = cbr_rgs.randomized_search(param_grid,\n",
    "                                        X=train_data,\n",
    "                                        plot=True)"
   ]
  },
  {
   "cell_type": "markdown",
   "metadata": {},
   "source": [
    "Predict and score on train and validation set"
   ]
  },
  {
   "cell_type": "code",
   "execution_count": 60,
   "metadata": {},
   "outputs": [
    {
     "name": "stdout",
     "output_type": "stream",
     "text": [
      "------ Train Scores ------\n",
      "R2 Score: 0.9240979930579769\n",
      "Mean Absolute Error: 2152.863767161263\n",
      "Mean Squared Error: 12714873.628383223\n",
      "Root Mean Squared Error: 3565.792145987091\n",
      "------ Validation Scores ------\n",
      "R2 Score: 0.891991315542948\n",
      "Mean Absolute Error: 2396.3712258683017\n",
      "Mean Squared Error: 17997697.297482125\n",
      "Root Mean Squared Error: 4242.369302345344\n"
     ]
    }
   ],
   "source": [
    "y_pred_train_cbr_rgs = cbr_rgs.predict(train_data)\n",
    "y_pred_valid_cbr_rgs = cbr_rgs.predict(valid_data)\n",
    "\n",
    "print_scores(y_train, y_valid, y_pred_train_cbr_rgs, y_pred_valid_cbr_rgs)"
   ]
  },
  {
   "cell_type": "markdown",
   "metadata": {},
   "source": [
    "Save the model"
   ]
  },
  {
   "cell_type": "code",
   "execution_count": 80,
   "metadata": {},
   "outputs": [],
   "source": [
    "cbr_rgs.save_model('data_v9_catboost')"
   ]
  },
  {
   "cell_type": "markdown",
   "metadata": {},
   "source": [
    "See all the parameters which were used for training"
   ]
  },
  {
   "cell_type": "code",
   "execution_count": 61,
   "metadata": {},
   "outputs": [
    {
     "data": {
      "text/plain": [
       "{'nan_mode': 'Min',\n",
       " 'gpu_ram_part': 0.95,\n",
       " 'eval_metric': 'RMSE',\n",
       " 'combinations_ctr': ['Borders:CtrBorderCount=15:CtrBorderType=Uniform:TargetBorderCount=1:TargetBorderType=MinEntropy:Prior=0/1:Prior=0.5/1:Prior=1/1',\n",
       "  'FeatureFreq:CtrBorderCount=15:CtrBorderType=Median:Prior=0/1'],\n",
       " 'iterations': 500,\n",
       " 'fold_permutation_block': 64,\n",
       " 'leaf_estimation_method': 'Newton',\n",
       " 'observations_to_bootstrap': 'TestOnly',\n",
       " 'counter_calc_method': 'SkipTest',\n",
       " 'grow_policy': 'SymmetricTree',\n",
       " 'penalties_coefficient': 1,\n",
       " 'boosting_type': 'Plain',\n",
       " 'ctr_history_unit': 'Sample',\n",
       " 'feature_border_type': 'GreedyLogSum',\n",
       " 'bayesian_matrix_reg': 0.10000000149011612,\n",
       " 'one_hot_max_size': 2,\n",
       " 'devices': '-1',\n",
       " 'eval_fraction': 0,\n",
       " 'pinned_memory_bytes': '104857600',\n",
       " 'force_unit_auto_pair_weights': False,\n",
       " 'l2_leaf_reg': 11,\n",
       " 'random_strength': 1,\n",
       " 'rsm': 1,\n",
       " 'boost_from_average': True,\n",
       " 'gpu_cat_features_storage': 'GpuRam',\n",
       " 'fold_size_loss_normalization': False,\n",
       " 'max_ctr_complexity': 4,\n",
       " 'model_size_reg': 0.5,\n",
       " 'simple_ctr': ['Borders:CtrBorderCount=15:CtrBorderType=Uniform:TargetBorderCount=1:TargetBorderType=MinEntropy:Prior=0/1:Prior=0.5/1:Prior=1/1',\n",
       "  'FeatureFreq:CtrBorderCount=15:CtrBorderType=MinEntropy:Prior=0/1'],\n",
       " 'pool_metainfo_options': {'tags': {}},\n",
       " 'use_best_model': False,\n",
       " 'meta_l2_frequency': 0,\n",
       " 'random_seed': 256,\n",
       " 'depth': 10,\n",
       " 'ctr_target_border_count': 1,\n",
       " 'has_time': False,\n",
       " 'border_count': 128,\n",
       " 'min_fold_size': 100,\n",
       " 'data_partition': 'FeatureParallel',\n",
       " 'bagging_temperature': 1,\n",
       " 'classes_count': 0,\n",
       " 'auto_class_weights': 'None',\n",
       " 'leaf_estimation_backtracking': 'AnyImprovement',\n",
       " 'best_model_min_trees': 1,\n",
       " 'min_data_in_leaf': 1,\n",
       " 'add_ridge_penalty_to_loss_function': False,\n",
       " 'loss_function': 'RMSE',\n",
       " 'learning_rate': 0.10000000149011612,\n",
       " 'meta_l2_exponent': 1,\n",
       " 'score_function': 'Cosine',\n",
       " 'task_type': 'GPU',\n",
       " 'leaf_estimation_iterations': 1,\n",
       " 'bootstrap_type': 'Bayesian',\n",
       " 'max_leaves': 1024,\n",
       " 'permutation_count': 4}"
      ]
     },
     "execution_count": 61,
     "metadata": {},
     "output_type": "execute_result"
    }
   ],
   "source": [
    "cbr_rgs.get_all_params()"
   ]
  },
  {
   "cell_type": "markdown",
   "metadata": {},
   "source": [
    "Best parameters according to randomized search"
   ]
  },
  {
   "cell_type": "code",
   "execution_count": 62,
   "metadata": {},
   "outputs": [
    {
     "data": {
      "text/plain": [
       "{'depth': 10, 'l2_leaf_reg': 11, 'iterations': 500, 'learning_rate': 0.1}"
      ]
     },
     "execution_count": 62,
     "metadata": {},
     "output_type": "execute_result"
    }
   ],
   "source": [
    "random_grid_search_result['params']"
   ]
  },
  {
   "cell_type": "code",
   "execution_count": 63,
   "metadata": {},
   "outputs": [
    {
     "data": {
      "text/plain": [
       "array([21.37680831, 11.39002254,  7.01662054,  8.11663446, 14.25805785,\n",
       "        8.13847767,  1.51406109,  5.46150013,  7.09511699,  0.89692484,\n",
       "        3.10351427,  9.96304846,  0.41384574,  1.25536709])"
      ]
     },
     "execution_count": 63,
     "metadata": {},
     "output_type": "execute_result"
    }
   ],
   "source": [
    "cbr_rgs.get_feature_importance()"
   ]
  },
  {
   "cell_type": "code",
   "execution_count": 64,
   "metadata": {},
   "outputs": [
    {
     "data": {
      "text/plain": [
       "Index(['year', 'manufacturer', 'model', 'cylinders', 'odometer', 'type',\n",
       "       'posting_date', 'condition', 'fuel', 'title_status', 'transmission',\n",
       "       'drive', 'size', 'paint_color'],\n",
       "      dtype='object')"
      ]
     },
     "execution_count": 64,
     "metadata": {},
     "output_type": "execute_result"
    }
   ],
   "source": [
    "X_train.columns"
   ]
  },
  {
   "cell_type": "code",
   "execution_count": 70,
   "metadata": {},
   "outputs": [
    {
     "data": {
      "text/plain": [
       "Text(0.5, 1.0, 'CatBoost Feature Importance')"
      ]
     },
     "execution_count": 70,
     "metadata": {},
     "output_type": "execute_result"
    },
    {
     "data": {
      "image/png": "[encoded data removed]",
      "text/plain": [
       "<Figure size 1080x432 with 1 Axes>"
      ]
     },
     "metadata": {
      "needs_background": "light"
     },
     "output_type": "display_data"
    }
   ],
   "source": [
    "importances = pd.DataFrame(cbr_rgs.get_feature_importance(prettified=True))\n",
    "plt.figure(figsize=(15, 6))\n",
    "sns.barplot(data=importances.sort_values('Importances', ascending=False), x='Importances', y='Feature Id')\n",
    "plt.title('CatBoost Feature Importance')"
   ]
  },
  {
   "cell_type": "markdown",
   "metadata": {},
   "source": [
    "### Catboost random grid search on data_v9_2 - 2"
   ]
  },
  {
   "cell_type": "markdown",
   "metadata": {},
   "source": [
    "This time, let us try to increase the number of parameters randomly selected"
   ]
  },
  {
   "cell_type": "code",
   "execution_count": 71,
   "metadata": {},
   "outputs": [
    {
     "data": {
      "application/vnd.jupyter.widget-view+json": {
       "model_id": "68a72c253d2c4080b29b9bd4b40400bd",
       "version_major": 2,
       "version_minor": 0
      },
      "text/plain": [
       "MetricVisualizer(layout=Layout(align_self='stretch', height='500px'))"
      ]
     },
     "metadata": {},
     "output_type": "display_data"
    },
    {
     "name": "stdout",
     "output_type": "stream",
     "text": [
      "0:\tlearn: 21614.1958155\ttest: 21528.6577486\tbest: 21528.6577486 (0)\ttotal: 19.8ms\tremaining: 2.95s\n",
      "149:\tlearn: 6880.8091888\ttest: 6763.5673348\tbest: 6763.5673348 (149)\ttotal: 3.41s\tremaining: 0us\n",
      "bestTest = 6763.567335\n",
      "bestIteration = 149\n",
      "0:\tloss: 6763.5673348\tbest: 6763.5673348 (0)\ttotal: 3.64s\tremaining: 51s\n",
      "0:\tlearn: 20351.0235428\ttest: 20268.8687301\tbest: 20268.8687301 (0)\ttotal: 25ms\tremaining: 6.22s\n",
      "200:\tlearn: 6139.4400293\ttest: 6033.3309851\tbest: 6033.3309851 (200)\ttotal: 5.43s\tremaining: 1.32s\n",
      "249:\tlearn: 6062.6290198\ttest: 5956.0312751\tbest: 5956.0312751 (249)\ttotal: 6.92s\tremaining: 0us\n",
      "bestTest = 5956.031275\n",
      "bestIteration = 249\n",
      "1:\tloss: 5956.0312751\tbest: 5956.0312751 (1)\ttotal: 10.7s\tremaining: 1m 9s\n",
      "0:\tlearn: 19460.1047089\ttest: 19380.2762151\tbest: 19380.2762151 (0)\ttotal: 30.2ms\tremaining: 15.1s\n",
      "200:\tlearn: 5988.1954291\ttest: 5881.4543953\tbest: 5881.4543953 (200)\ttotal: 5.46s\tremaining: 8.13s\n",
      "400:\tlearn: 5748.3609521\ttest: 5649.2570713\tbest: 5649.2570713 (400)\ttotal: 11.1s\tremaining: 2.74s\n",
      "499:\tlearn: 5691.8020761\ttest: 5589.2268285\tbest: 5589.2268285 (499)\ttotal: 13.7s\tremaining: 0us\n",
      "bestTest = 5589.226829\n",
      "bestIteration = 499\n",
      "2:\tloss: 5589.2268285\tbest: 5589.2268285 (2)\ttotal: 24.7s\tremaining: 1m 38s\n",
      "0:\tlearn: 20351.2049615\ttest: 20269.0522042\tbest: 20269.0522042 (0)\ttotal: 25.7ms\tremaining: 12.8s\n",
      "200:\tlearn: 6134.9869103\ttest: 6027.3734025\tbest: 6027.3734025 (200)\ttotal: 5.46s\tremaining: 8.12s\n",
      "400:\tlearn: 5911.3156079\ttest: 5811.5766930\tbest: 5811.5766930 (400)\ttotal: 11.3s\tremaining: 2.8s\n",
      "499:\tlearn: 5825.1918049\ttest: 5723.3632718\tbest: 5723.3632718 (499)\ttotal: 14.2s\tremaining: 0us\n",
      "bestTest = 5723.363272\n",
      "bestIteration = 499\n",
      "3:\tloss: 5723.3632718\tbest: 5589.2268285 (2)\ttotal: 39.1s\tremaining: 1m 47s\n",
      "0:\tlearn: 19460.6476606\ttest: 19380.8172330\tbest: 19380.8172330 (0)\ttotal: 30.8ms\tremaining: 23s\n",
      "200:\tlearn: 5986.3196756\ttest: 5882.3211729\tbest: 5882.3211729 (200)\ttotal: 5.7s\tremaining: 15.6s\n",
      "400:\tlearn: 5740.5782205\ttest: 5638.1152166\tbest: 5638.1152166 (400)\ttotal: 10.7s\tremaining: 9.31s\n",
      "600:\tlearn: 5616.4395144\ttest: 5508.9653527\tbest: 5508.9653527 (600)\ttotal: 15.7s\tremaining: 3.9s\n",
      "749:\tlearn: 5541.0562794\ttest: 5432.7109912\tbest: 5432.7109912 (748)\ttotal: 19.7s\tremaining: 0us\n",
      "bestTest = 5432.710991\n",
      "bestIteration = 748\n",
      "4:\tloss: 5432.7109912\tbest: 5432.7109912 (4)\ttotal: 59s\tremaining: 1m 57s\n",
      "0:\tlearn: 19325.4179581\ttest: 19243.5908730\tbest: 19243.5908730 (0)\ttotal: 29.7ms\tremaining: 4.42s\n",
      "149:\tlearn: 5455.7337814\ttest: 5395.6072309\tbest: 5395.6072309 (149)\ttotal: 4.21s\tremaining: 0us\n",
      "bestTest = 5395.607231\n",
      "bestIteration = 149\n",
      "5:\tloss: 5395.6072309\tbest: 5395.6072309 (5)\ttotal: 1m 3s\tremaining: 1m 35s\n",
      "0:\tlearn: 21969.9871329\ttest: 21883.5289014\tbest: 21883.5289014 (0)\ttotal: 47ms\tremaining: 11.7s\n",
      "200:\tlearn: 7544.4730840\ttest: 7451.2463043\tbest: 7451.2463043 (200)\ttotal: 8.08s\tremaining: 1.97s\n",
      "249:\tlearn: 6974.5183906\ttest: 6868.6538086\tbest: 6868.6538086 (249)\ttotal: 10s\tremaining: 0us\n",
      "bestTest = 6868.653809\n",
      "bestIteration = 249\n",
      "6:\tloss: 6868.6538086\tbest: 5395.6072309 (5)\ttotal: 1m 13s\tremaining: 1m 24s\n",
      "0:\tlearn: 21966.6808660\ttest: 21880.2194725\tbest: 21880.2194725 (0)\ttotal: 56.1ms\tremaining: 14s\n",
      "200:\tlearn: 7153.0424682\ttest: 7075.0614701\tbest: 7075.0614701 (200)\ttotal: 10.8s\tremaining: 2.64s\n",
      "249:\tlearn: 6569.1842260\ttest: 6491.3871736\tbest: 6491.3871736 (249)\ttotal: 13.4s\tremaining: 0us\n",
      "bestTest = 6491.387174\n",
      "bestIteration = 249\n",
      "7:\tloss: 6491.3871736\tbest: 5395.6072309 (5)\ttotal: 1m 27s\tremaining: 1m 16s\n",
      "0:\tlearn: 21966.7248714\ttest: 21874.4706499\tbest: 21874.4706499 (0)\ttotal: 44.6ms\tremaining: 33.4s\n",
      "200:\tlearn: 7135.9260166\ttest: 7057.9598796\tbest: 7057.9598796 (200)\ttotal: 10.4s\tremaining: 28.4s\n",
      "400:\tlearn: 5939.3398346\ttest: 5857.7087032\tbest: 5857.7087032 (400)\ttotal: 20.4s\tremaining: 17.7s\n",
      "600:\tlearn: 5661.9912558\ttest: 5584.7609078\tbest: 5584.7609078 (600)\ttotal: 30s\tremaining: 7.44s\n",
      "749:\tlearn: 5517.1598538\ttest: 5444.9211210\tbest: 5444.9211210 (749)\ttotal: 36.9s\tremaining: 0us\n",
      "bestTest = 5444.921121\n",
      "bestIteration = 749\n",
      "8:\tloss: 5444.9211210\tbest: 5395.6072309 (5)\ttotal: 2m 4s\tremaining: 1m 22s\n",
      "0:\tlearn: 20200.0249537\ttest: 20119.0571795\tbest: 20119.0571795 (0)\ttotal: 48ms\tremaining: 7.16s\n",
      "149:\tlearn: 5127.7044898\ttest: 5130.6036260\tbest: 5130.6036260 (148)\ttotal: 6.32s\tremaining: 0us\n",
      "bestTest = 5130.603626\n",
      "bestIteration = 148\n",
      "9:\tloss: 5130.6036260\tbest: 5130.6036260 (9)\ttotal: 2m 10s\tremaining: 1m 5s\n",
      "0:\tlearn: 21177.2422033\ttest: 21072.6901216\tbest: 21072.6901216 (0)\ttotal: 95ms\tremaining: 47.4s\n",
      "200:\tlearn: 5005.7229155\ttest: 4995.9867576\tbest: 4995.9865896 (199)\ttotal: 16.2s\tremaining: 24.1s\n",
      "400:\tlearn: 4792.3326141\ttest: 4815.9650806\tbest: 4815.9650806 (400)\ttotal: 28.2s\tremaining: 6.97s\n",
      "499:\tlearn: 4759.6759580\ttest: 4786.8626008\tbest: 4786.8618996 (493)\ttotal: 32s\tremaining: 0us\n",
      "bestTest = 4786.8619\n",
      "bestIteration = 493\n",
      "10:\tloss: 4786.8618996\tbest: 4786.8618996 (10)\ttotal: 2m 42s\tremaining: 59.2s\n",
      "0:\tlearn: 19238.1539524\ttest: 19162.1354272\tbest: 19162.1354272 (0)\ttotal: 79.8ms\tremaining: 39.8s\n",
      "200:\tlearn: 4922.1939673\ttest: 4936.8433790\tbest: 4936.7335809 (188)\ttotal: 12.1s\tremaining: 17.9s\n",
      "400:\tlearn: 4818.5529724\ttest: 4851.4489192\tbest: 4851.4489192 (397)\ttotal: 18.9s\tremaining: 4.67s\n",
      "499:\tlearn: 4775.6709626\ttest: 4811.0564321\tbest: 4811.0557344 (497)\ttotal: 22.4s\tremaining: 0us\n",
      "bestTest = 4811.055734\n",
      "bestIteration = 497\n",
      "11:\tloss: 4811.0557344\tbest: 4786.8618996 (10)\ttotal: 3m 5s\tremaining: 46.3s\n",
      "0:\tlearn: 20185.0982921\ttest: 20103.7736152\tbest: 20103.7736152 (0)\ttotal: 127ms\tremaining: 19s\n",
      "149:\tlearn: 4856.6073349\ttest: 4935.2935727\tbest: 4935.2884721 (145)\ttotal: 11.4s\tremaining: 0us\n",
      "bestTest = 4935.288472\n",
      "bestIteration = 145\n",
      "12:\tloss: 4935.2884721\tbest: 4786.8618996 (10)\ttotal: 3m 16s\tremaining: 30.3s\n",
      "0:\tlearn: 21175.3814211\ttest: 21076.8824505\tbest: 21076.8824505 (0)\ttotal: 175ms\tremaining: 43.5s\n",
      "200:\tlearn: 4950.0582314\ttest: 4980.6956736\tbest: 4980.6955051 (199)\ttotal: 29.4s\tremaining: 7.16s\n",
      "249:\tlearn: 4854.7409896\ttest: 4900.3473705\tbest: 4900.3473705 (249)\ttotal: 34.8s\tremaining: 0us\n",
      "bestTest = 4900.347371\n",
      "bestIteration = 249\n",
      "13:\tloss: 4900.3473705\tbest: 4786.8618996 (10)\ttotal: 3m 51s\tremaining: 16.6s\n",
      "0:\tlearn: 20182.5819465\ttest: 20076.8437427\tbest: 20076.8437427 (0)\ttotal: 186ms\tremaining: 1m 32s\n",
      "200:\tlearn: 4565.2247522\ttest: 4669.8515473\tbest: 4669.8089626 (196)\ttotal: 24.2s\tremaining: 36s\n",
      "400:\tlearn: 4477.9411373\ttest: 4603.6391670\tbest: 4603.6391670 (400)\ttotal: 31.7s\tremaining: 7.82s\n",
      "499:\tlearn: 4442.5451337\ttest: 4579.8217503\tbest: 4579.8188188 (497)\ttotal: 35.3s\tremaining: 0us\n",
      "bestTest = 4579.818819\n",
      "bestIteration = 497\n",
      "14:\tloss: 4579.8188188\tbest: 4579.8188188 (14)\ttotal: 4m 27s\tremaining: 0us\n",
      "Estimating final quality...\n",
      "Training on fold [0/3]\n",
      "0:\tlearn: 20107.4459213\ttest: 20272.9013217\tbest: 20272.9013217 (0)\ttotal: 183ms\tremaining: 1m 31s\n",
      "200:\tlearn: 4576.8461679\ttest: 4884.2831280\tbest: 4884.2305585 (162)\ttotal: 23.3s\tremaining: 34.6s\n",
      "400:\tlearn: 4382.3724868\ttest: 4760.1452591\tbest: 4760.1450476 (364)\ttotal: 33.2s\tremaining: 8.2s\n",
      "499:\tlearn: 4363.7645019\ttest: 4748.3454469\tbest: 4748.3452348 (432)\ttotal: 36.4s\tremaining: 0us\n",
      "bestTest = 4748.345235\n",
      "bestIteration = 432\n",
      "Training on fold [1/3]\n",
      "0:\tlearn: 20197.4041119\ttest: 20091.9724543\tbest: 20091.9724543 (0)\ttotal: 224ms\tremaining: 1m 51s\n",
      "200:\tlearn: 4718.7530747\ttest: 4872.7386797\tbest: 4872.7380598 (189)\ttotal: 21.6s\tremaining: 32.1s\n",
      "400:\tlearn: 4552.9380328\ttest: 4763.9633267\tbest: 4763.9631153 (395)\ttotal: 33.4s\tremaining: 8.24s\n",
      "499:\tlearn: 4503.4245735\ttest: 4731.8349217\tbest: 4731.7976823 (496)\ttotal: 39.3s\tremaining: 0us\n",
      "bestTest = 4731.797682\n",
      "bestIteration = 496\n",
      "Training on fold [2/3]\n",
      "0:\tlearn: 20187.2501490\ttest: 20109.9062451\tbest: 20109.9062451 (0)\ttotal: 191ms\tremaining: 1m 35s\n",
      "200:\tlearn: 4639.0726385\ttest: 4811.7450946\tbest: 4811.7446760 (175)\ttotal: 25.2s\tremaining: 37.4s\n",
      "400:\tlearn: 4554.5061744\ttest: 4753.8753631\tbest: 4753.8751513 (399)\ttotal: 37.5s\tremaining: 9.25s\n",
      "499:\tlearn: 4476.0416752\ttest: 4697.7445585\tbest: 4697.7445585 (499)\ttotal: 41.9s\tremaining: 0us\n",
      "bestTest = 4697.744559\n",
      "bestIteration = 499\n",
      "CPU times: total: 8min 40s\n",
      "Wall time: 6min 51s\n"
     ]
    }
   ],
   "source": [
    "%%time\n",
    "\n",
    "grid = {'learning_rate':[0.01, 0.03, 0.05, 0.1, 0.15],\n",
    "        'depth':[2, 4, 6, 8, 10],\n",
    "        'l2_leaf_reg':[1, 3, 5, 7, 9, 11],\n",
    "        'iterations':[150, 250, 500, 750]}\n",
    "\n",
    "cbr_rgs_2 = CatBoostRegressor(task_type='GPU', verbose=200, random_seed=SEED)\n",
    "\n",
    "grid_search_result_2 = cbr_rgs_2.randomized_search(grid,\n",
    "                                        X=train_data,\n",
    "                                        n_iter=15,\n",
    "                                        plot=True)"
   ]
  },
  {
   "cell_type": "code",
   "execution_count": 72,
   "metadata": {},
   "outputs": [
    {
     "name": "stdout",
     "output_type": "stream",
     "text": [
      "------ Train Scores ------\n",
      "R2 Score: 0.9453762482415499\n",
      "Mean Absolute Error: 1831.9639123757026\n",
      "Mean Squared Error: 9150404.958954263\n",
      "Root Mean Squared Error: 3024.9636293605686\n",
      "------ Validation Scores ------\n",
      "R2 Score: 0.9039591609817855\n",
      "Mean Absolute Error: 2199.3688101145754\n",
      "Mean Squared Error: 16003471.9201987\n",
      "Root Mean Squared Error: 4000.4339664839736\n"
     ]
    }
   ],
   "source": [
    "y_pred_train_cbr_rgs_2 = cbr_rgs_2.predict(train_data)\n",
    "y_pred_valid_cbr_rgs_2 = cbr_rgs_2.predict(valid_data)\n",
    "\n",
    "print_scores(y_train, y_valid, y_pred_train_cbr_rgs_2, y_pred_valid_cbr_rgs_2)"
   ]
  },
  {
   "cell_type": "code",
   "execution_count": 73,
   "metadata": {},
   "outputs": [],
   "source": [
    "cbr_rgs_2.save_model('data_v9_catboost_2')"
   ]
  },
  {
   "cell_type": "code",
   "execution_count": 74,
   "metadata": {},
   "outputs": [
    {
     "data": {
      "text/plain": [
       "{'depth': 10, 'l2_leaf_reg': 1, 'iterations': 500, 'learning_rate': 0.1}"
      ]
     },
     "execution_count": 74,
     "metadata": {},
     "output_type": "execute_result"
    }
   ],
   "source": [
    "grid_search_result_2['params']"
   ]
  },
  {
   "cell_type": "code",
   "execution_count": 75,
   "metadata": {},
   "outputs": [
    {
     "data": {
      "text/plain": [
       "Text(0.5, 1.0, 'CatBoost Feature Importance')"
      ]
     },
     "execution_count": 75,
     "metadata": {},
     "output_type": "execute_result"
    },
    {
     "data": {
      "image/png": "[encoded data removed]",
      "text/plain": [
       "<Figure size 1080x432 with 1 Axes>"
      ]
     },
     "metadata": {
      "needs_background": "light"
     },
     "output_type": "display_data"
    }
   ],
   "source": [
    "importances_2 = pd.DataFrame(cbr_rgs_2.get_feature_importance(prettified=True))\n",
    "plt.figure(figsize=(15, 6))\n",
    "sns.barplot(data=importances_2.sort_values('Importances', ascending=False), x='Importances', y='Feature Id')\n",
    "plt.title('CatBoost Feature Importance')"
   ]
  },
  {
   "cell_type": "markdown",
   "metadata": {},
   "source": [
    "### Catboost random grid search on data_v9_2 - 3"
   ]
  },
  {
   "cell_type": "markdown",
   "metadata": {},
   "source": [
    "This time, let us increase n_iter to 25"
   ]
  },
  {
   "cell_type": "code",
   "execution_count": 76,
   "metadata": {},
   "outputs": [
    {
     "data": {
      "application/vnd.jupyter.widget-view+json": {
       "model_id": "ec6b79598ce54054a5ed447a0e030186",
       "version_major": 2,
       "version_minor": 0
      },
      "text/plain": [
       "MetricVisualizer(layout=Layout(align_self='stretch', height='500px'))"
      ]
     },
     "metadata": {},
     "output_type": "display_data"
    },
    {
     "name": "stdout",
     "output_type": "stream",
     "text": [
      "0:\tlearn: 21614.1958155\ttest: 21528.6577486\tbest: 21528.6577486 (0)\ttotal: 21.3ms\tremaining: 3.17s\n",
      "149:\tlearn: 6880.8091888\ttest: 6763.5673348\tbest: 6763.5673348 (149)\ttotal: 3.6s\tremaining: 0us\n",
      "bestTest = 6763.567335\n",
      "bestIteration = 149\n",
      "0:\tloss: 6763.5673348\tbest: 6763.5673348 (0)\ttotal: 3.85s\tremaining: 1m 32s\n",
      "0:\tlearn: 19460.9167163\ttest: 19381.0866972\tbest: 19381.0866972 (0)\ttotal: 21.5ms\tremaining: 3.2s\n",
      "149:\tlearn: 6131.9782347\ttest: 6018.6047044\tbest: 6018.6047044 (149)\ttotal: 3.4s\tremaining: 0us\n",
      "bestTest = 6018.604704\n",
      "bestIteration = 149\n",
      "1:\tloss: 6018.6047044\tbest: 6018.6047044 (1)\ttotal: 7.42s\tremaining: 1m 25s\n",
      "0:\tlearn: 20351.0235428\ttest: 20268.8687301\tbest: 20268.8687301 (0)\ttotal: 26.3ms\tremaining: 6.55s\n",
      "200:\tlearn: 6139.4400293\ttest: 6033.3309851\tbest: 6033.3309851 (200)\ttotal: 5.42s\tremaining: 1.32s\n",
      "249:\tlearn: 6062.6290198\ttest: 5956.0312751\tbest: 5956.0312751 (249)\ttotal: 6.68s\tremaining: 0us\n",
      "bestTest = 5956.031275\n",
      "bestIteration = 249\n",
      "2:\tloss: 5956.0312751\tbest: 5956.0312751 (2)\ttotal: 14.3s\tremaining: 1m 44s\n",
      "0:\tlearn: 19460.1047089\ttest: 19380.2762151\tbest: 19380.2762151 (0)\ttotal: 25.6ms\tremaining: 12.8s\n",
      "200:\tlearn: 5988.1954291\ttest: 5881.4543953\tbest: 5881.4543953 (200)\ttotal: 5.22s\tremaining: 7.77s\n",
      "400:\tlearn: 5748.3609521\ttest: 5649.2570713\tbest: 5649.2570713 (400)\ttotal: 10.2s\tremaining: 2.52s\n",
      "499:\tlearn: 5691.8020761\ttest: 5589.2268285\tbest: 5589.2268285 (499)\ttotal: 12.8s\tremaining: 0us\n",
      "bestTest = 5589.226829\n",
      "bestIteration = 499\n",
      "3:\tloss: 5589.2268285\tbest: 5589.2268285 (3)\ttotal: 27.2s\tremaining: 2m 22s\n",
      "0:\tlearn: 20351.2049615\ttest: 20269.0522042\tbest: 20269.0522042 (0)\ttotal: 28.9ms\tremaining: 14.4s\n",
      "200:\tlearn: 6134.9869103\ttest: 6027.3734025\tbest: 6027.3734025 (200)\ttotal: 5.58s\tremaining: 8.3s\n",
      "400:\tlearn: 5911.3156079\ttest: 5811.5766930\tbest: 5811.5766930 (400)\ttotal: 11s\tremaining: 2.71s\n",
      "499:\tlearn: 5825.1918049\ttest: 5723.3632718\tbest: 5723.3632718 (499)\ttotal: 13.5s\tremaining: 0us\n",
      "bestTest = 5723.363272\n",
      "bestIteration = 499\n",
      "4:\tloss: 5723.3632718\tbest: 5589.2268285 (3)\ttotal: 40.9s\tremaining: 2m 43s\n",
      "0:\tlearn: 19460.6476606\ttest: 19380.8172330\tbest: 19380.8172330 (0)\ttotal: 22.2ms\tremaining: 16.6s\n",
      "200:\tlearn: 5986.3196756\ttest: 5882.3211729\tbest: 5882.3211729 (200)\ttotal: 5.16s\tremaining: 14.1s\n",
      "400:\tlearn: 5740.5782205\ttest: 5638.1152166\tbest: 5638.1152166 (400)\ttotal: 9.99s\tremaining: 8.7s\n",
      "600:\tlearn: 5616.4395144\ttest: 5508.9653527\tbest: 5508.9653527 (600)\ttotal: 14.7s\tremaining: 3.64s\n",
      "749:\tlearn: 5541.0562794\ttest: 5432.7109912\tbest: 5432.7109912 (748)\ttotal: 18.3s\tremaining: 0us\n",
      "bestTest = 5432.710991\n",
      "bestIteration = 748\n",
      "5:\tloss: 5432.7109912\tbest: 5432.7109912 (5)\ttotal: 59.4s\tremaining: 3m 8s\n",
      "0:\tlearn: 19325.4179581\ttest: 19243.5908730\tbest: 19243.5908730 (0)\ttotal: 27.2ms\tremaining: 4.06s\n",
      "149:\tlearn: 5455.7337814\ttest: 5395.6072309\tbest: 5395.6072309 (149)\ttotal: 3.75s\tremaining: 0us\n",
      "bestTest = 5395.607231\n",
      "bestIteration = 149\n",
      "6:\tloss: 5395.6072309\tbest: 5395.6072309 (6)\ttotal: 1m 3s\tremaining: 2m 42s\n",
      "0:\tlearn: 21969.9871329\ttest: 21883.5289014\tbest: 21883.5289014 (0)\ttotal: 42.5ms\tremaining: 10.6s\n",
      "200:\tlearn: 7544.4730840\ttest: 7451.2463043\tbest: 7451.2463043 (200)\ttotal: 7.6s\tremaining: 1.85s\n",
      "249:\tlearn: 6974.5183906\ttest: 6868.6538086\tbest: 6868.6538086 (249)\ttotal: 9.48s\tremaining: 0us\n",
      "bestTest = 6868.653809\n",
      "bestIteration = 249\n",
      "7:\tloss: 6868.6538086\tbest: 5395.6072309 (6)\ttotal: 1m 12s\tremaining: 2m 35s\n",
      "0:\tlearn: 20263.4588645\ttest: 20182.0993630\tbest: 20182.0993630 (0)\ttotal: 35.9ms\tremaining: 17.9s\n",
      "200:\tlearn: 5428.3481106\ttest: 5362.1528500\tbest: 5362.1528500 (200)\ttotal: 7.01s\tremaining: 10.4s\n",
      "400:\tlearn: 5171.7151611\ttest: 5121.6895297\tbest: 5121.6895297 (400)\ttotal: 13.4s\tremaining: 3.3s\n",
      "499:\tlearn: 5107.1151179\ttest: 5061.8062520\tbest: 5061.8062520 (498)\ttotal: 16.3s\tremaining: 0us\n",
      "bestTest = 5061.806252\n",
      "bestIteration = 498\n",
      "8:\tloss: 5061.8062520\tbest: 5061.8062520 (8)\ttotal: 1m 29s\tremaining: 2m 38s\n",
      "0:\tlearn: 21208.9391453\ttest: 21124.7722809\tbest: 21124.7722809 (0)\ttotal: 29.6ms\tremaining: 14.8s\n",
      "200:\tlearn: 5800.1467715\ttest: 5708.2700964\tbest: 5708.2700964 (200)\ttotal: 7.58s\tremaining: 11.3s\n",
      "400:\tlearn: 5441.8572599\ttest: 5368.6592259\tbest: 5368.6592259 (400)\ttotal: 15.2s\tremaining: 3.75s\n",
      "499:\tlearn: 5341.0416681\ttest: 5276.2708374\tbest: 5276.2708374 (499)\ttotal: 18.9s\tremaining: 0us\n",
      "bestTest = 5276.270837\n",
      "bestIteration = 499\n",
      "9:\tloss: 5276.2708374\tbest: 5061.8062520 (8)\ttotal: 1m 48s\tremaining: 2m 42s\n",
      "0:\tlearn: 21966.6808660\ttest: 21880.2194725\tbest: 21880.2194725 (0)\ttotal: 44.1ms\tremaining: 11s\n",
      "200:\tlearn: 7153.0424682\ttest: 7075.0614701\tbest: 7075.0614701 (200)\ttotal: 10.4s\tremaining: 2.54s\n",
      "249:\tlearn: 6569.1842260\ttest: 6491.3871736\tbest: 6491.3871736 (249)\ttotal: 12.9s\tremaining: 0us\n",
      "bestTest = 6491.387174\n",
      "bestIteration = 249\n",
      "10:\tloss: 6491.3871736\tbest: 5061.8062520 (8)\ttotal: 2m 1s\tremaining: 2m 34s\n",
      "0:\tlearn: 21966.4645052\ttest: 21879.9973534\tbest: 21879.9973534 (0)\ttotal: 48.7ms\tremaining: 24.3s\n",
      "200:\tlearn: 7141.4743051\ttest: 7061.8696413\tbest: 7061.8696413 (200)\ttotal: 11.2s\tremaining: 16.7s\n",
      "400:\tlearn: 5946.2243575\ttest: 5863.6406184\tbest: 5863.6406184 (400)\ttotal: 20.5s\tremaining: 5.06s\n",
      "499:\tlearn: 5792.3834971\ttest: 5713.6610860\tbest: 5713.6610860 (499)\ttotal: 24.9s\tremaining: 0us\n",
      "bestTest = 5713.661086\n",
      "bestIteration = 499\n",
      "11:\tloss: 5713.6610860\tbest: 5061.8062520 (8)\ttotal: 2m 26s\tremaining: 2m 38s\n",
      "0:\tlearn: 21966.7896569\ttest: 21880.4464978\tbest: 21880.4464978 (0)\ttotal: 40.2ms\tremaining: 20.1s\n",
      "200:\tlearn: 7159.5442321\ttest: 7083.1174980\tbest: 7083.1174980 (200)\ttotal: 9.66s\tremaining: 14.4s\n",
      "400:\tlearn: 5956.4394428\ttest: 5875.5718829\tbest: 5875.5718829 (400)\ttotal: 18.8s\tremaining: 4.64s\n",
      "499:\tlearn: 5804.1692310\ttest: 5725.9148414\tbest: 5725.9148414 (499)\ttotal: 23.3s\tremaining: 0us\n",
      "bestTest = 5725.914841\n",
      "bestIteration = 499\n",
      "12:\tloss: 5725.9148414\tbest: 5061.8062520 (8)\ttotal: 2m 49s\tremaining: 2m 36s\n",
      "0:\tlearn: 21578.1886341\ttest: 21475.4183566\tbest: 21475.4183566 (0)\ttotal: 45.9ms\tremaining: 34.4s\n",
      "200:\tlearn: 5649.6727989\ttest: 5575.4932749\tbest: 5575.4932749 (200)\ttotal: 9.54s\tremaining: 26.1s\n",
      "400:\tlearn: 5234.6672235\ttest: 5179.7379505\tbest: 5179.7379505 (400)\ttotal: 20.3s\tremaining: 17.6s\n",
      "600:\tlearn: 5073.9825033\ttest: 5030.6155267\tbest: 5030.6155267 (597)\ttotal: 29s\tremaining: 7.18s\n",
      "749:\tlearn: 5017.1209953\ttest: 4979.0927824\tbest: 4979.0927824 (749)\ttotal: 34.2s\tremaining: 0us\n",
      "bestTest = 4979.092782\n",
      "bestIteration = 749\n",
      "13:\tloss: 4979.0927824\tbest: 4979.0927824 (13)\ttotal: 3m 24s\tremaining: 2m 40s\n",
      "0:\tlearn: 21966.7248714\ttest: 21874.4706499\tbest: 21874.4706499 (0)\ttotal: 44.3ms\tremaining: 33.2s\n",
      "200:\tlearn: 7135.9260166\ttest: 7057.9598796\tbest: 7057.9598796 (200)\ttotal: 9.86s\tremaining: 26.9s\n",
      "400:\tlearn: 5939.3398346\ttest: 5857.7087032\tbest: 5857.7087032 (400)\ttotal: 19.3s\tremaining: 16.8s\n",
      "600:\tlearn: 5661.9912558\ttest: 5584.7609078\tbest: 5584.7609078 (600)\ttotal: 30s\tremaining: 7.44s\n",
      "749:\tlearn: 5517.1598538\ttest: 5444.9211210\tbest: 5444.9211210 (749)\ttotal: 39.1s\tremaining: 0us\n",
      "bestTest = 5444.921121\n",
      "bestIteration = 749\n",
      "14:\tloss: 5444.9211210\tbest: 4979.0927824 (13)\ttotal: 4m 3s\tremaining: 2m 42s\n",
      "0:\tlearn: 20230.4989297\ttest: 20150.3177672\tbest: 20150.3177672 (0)\ttotal: 49.8ms\tremaining: 37.3s\n",
      "200:\tlearn: 5124.9663553\ttest: 5082.6415403\tbest: 5082.6415403 (200)\ttotal: 9.93s\tremaining: 27.1s\n",
      "400:\tlearn: 5012.2232302\ttest: 4973.6004883\tbest: 4973.6001509 (398)\ttotal: 16.7s\tremaining: 14.5s\n",
      "600:\tlearn: 4942.3674758\ttest: 4908.9731940\tbest: 4908.9731940 (600)\ttotal: 22s\tremaining: 5.46s\n",
      "749:\tlearn: 4842.1364736\ttest: 4822.5106409\tbest: 4822.5106409 (749)\ttotal: 27.8s\tremaining: 0us\n",
      "bestTest = 4822.510641\n",
      "bestIteration = 749\n",
      "15:\tloss: 4822.5106409\tbest: 4822.5106409 (15)\ttotal: 4m 31s\tremaining: 2m 32s\n",
      "0:\tlearn: 20200.0249537\ttest: 20119.0571795\tbest: 20119.0571795 (0)\ttotal: 50.8ms\tremaining: 7.57s\n",
      "149:\tlearn: 5127.7044898\ttest: 5130.6036260\tbest: 5130.6036260 (148)\ttotal: 6.11s\tremaining: 0us\n",
      "bestTest = 5130.603626\n",
      "bestIteration = 148\n",
      "16:\tloss: 5130.6036260\tbest: 4822.5106409 (15)\ttotal: 4m 37s\tremaining: 2m 10s\n",
      "0:\tlearn: 21177.2422033\ttest: 21072.6901216\tbest: 21072.6901216 (0)\ttotal: 79.4ms\tremaining: 39.6s\n",
      "200:\tlearn: 5005.7229155\ttest: 4995.9867576\tbest: 4995.9865896 (199)\ttotal: 14.9s\tremaining: 22.2s\n",
      "400:\tlearn: 4792.3326141\ttest: 4815.9671714\tbest: 4815.9671714 (400)\ttotal: 25.7s\tremaining: 6.34s\n",
      "499:\tlearn: 4729.1791532\ttest: 4760.3927581\tbest: 4760.3927581 (499)\ttotal: 30.2s\tremaining: 0us\n",
      "bestTest = 4760.392758\n",
      "bestIteration = 499\n",
      "17:\tloss: 4760.3927581\tbest: 4760.3927581 (17)\ttotal: 5m 8s\tremaining: 1m 59s\n",
      "0:\tlearn: 19238.1539524\ttest: 19162.1354272\tbest: 19162.1354272 (0)\ttotal: 77.5ms\tremaining: 38.7s\n",
      "200:\tlearn: 4922.1915807\ttest: 4936.7378301\tbest: 4936.7359605 (188)\ttotal: 11.3s\tremaining: 16.9s\n",
      "400:\tlearn: 4806.0529360\ttest: 4841.1602826\tbest: 4841.1602826 (400)\ttotal: 17.1s\tremaining: 4.22s\n",
      "499:\tlearn: 4789.6888436\ttest: 4828.6907641\tbest: 4828.6883313 (479)\ttotal: 19.4s\tremaining: 0us\n",
      "bestTest = 4828.688331\n",
      "bestIteration = 479\n",
      "18:\tloss: 4828.6883313\tbest: 4760.3927581 (17)\ttotal: 5m 27s\tremaining: 1m 43s\n",
      "0:\tlearn: 19249.6060755\ttest: 19169.2131879\tbest: 19169.2131879 (0)\ttotal: 87.2ms\tremaining: 43.5s\n",
      "200:\tlearn: 5004.1286708\ttest: 4978.8942596\tbest: 4978.8942596 (200)\ttotal: 10.4s\tremaining: 15.4s\n",
      "400:\tlearn: 4815.5256243\ttest: 4812.8945148\tbest: 4812.8939918 (393)\ttotal: 17.7s\tremaining: 4.37s\n",
      "499:\tlearn: 4783.6767380\ttest: 4784.6318738\tbest: 4784.6315231 (470)\ttotal: 20.1s\tremaining: 0us\n",
      "bestTest = 4784.631523\n",
      "bestIteration = 470\n",
      "19:\tloss: 4784.6315231\tbest: 4760.3927581 (17)\ttotal: 5m 48s\tremaining: 1m 27s\n",
      "0:\tlearn: 20185.0982921\ttest: 20103.7736152\tbest: 20103.7736152 (0)\ttotal: 114ms\tremaining: 17s\n",
      "149:\tlearn: 4856.6073349\ttest: 4935.2935727\tbest: 4935.2884721 (145)\ttotal: 10.7s\tremaining: 0us\n",
      "bestTest = 4935.288472\n",
      "bestIteration = 145\n",
      "20:\tloss: 4935.2884721\tbest: 4760.3927581 (17)\ttotal: 5m 58s\tremaining: 1m 8s\n",
      "0:\tlearn: 21175.3814211\ttest: 21076.8824505\tbest: 21076.8824505 (0)\ttotal: 154ms\tremaining: 38.2s\n",
      "200:\tlearn: 4950.0582314\ttest: 4980.6956736\tbest: 4980.6955051 (199)\ttotal: 29.2s\tremaining: 7.13s\n",
      "249:\tlearn: 4854.7409896\ttest: 4900.3473705\tbest: 4900.3473705 (249)\ttotal: 34.6s\tremaining: 0us\n",
      "bestTest = 4900.347371\n",
      "bestIteration = 249\n",
      "21:\tloss: 4900.3473705\tbest: 4760.3927581 (17)\ttotal: 6m 33s\tremaining: 53.7s\n",
      "0:\tlearn: 20195.5999669\ttest: 20085.8043266\tbest: 20085.8043266 (0)\ttotal: 163ms\tremaining: 40.5s\n",
      "200:\tlearn: 4797.7640982\ttest: 4855.5612765\tbest: 4855.5557466 (186)\ttotal: 22.3s\tremaining: 5.43s\n",
      "249:\tlearn: 4785.3077790\ttest: 4847.3536723\tbest: 4847.3533261 (248)\ttotal: 24.3s\tremaining: 0us\n",
      "bestTest = 4847.353326\n",
      "bestIteration = 248\n",
      "22:\tloss: 4847.3533261\tbest: 4760.3927581 (17)\ttotal: 6m 58s\tremaining: 36.3s\n",
      "0:\tlearn: 20182.5819465\ttest: 20076.8437427\tbest: 20076.8437427 (0)\ttotal: 182ms\tremaining: 1m 30s\n",
      "200:\tlearn: 4565.2247522\ttest: 4669.8123766\tbest: 4669.8121969 (185)\ttotal: 24.2s\tremaining: 36s\n",
      "400:\tlearn: 4486.3299026\ttest: 4610.2062616\tbest: 4610.2062616 (400)\ttotal: 32.8s\tremaining: 8.1s\n",
      "499:\tlearn: 4383.7743458\ttest: 4533.4654631\tbest: 4533.4654631 (499)\ttotal: 38s\tremaining: 0us\n",
      "bestTest = 4533.465463\n",
      "bestIteration = 499\n",
      "23:\tloss: 4533.4654631\tbest: 4533.4654631 (23)\ttotal: 7m 36s\tremaining: 19s\n",
      "0:\tlearn: 20208.3073168\ttest: 20130.4920636\tbest: 20130.4920636 (0)\ttotal: 169ms\tremaining: 1m 24s\n",
      "200:\tlearn: 4843.5553612\ttest: 4860.8981522\tbest: 4860.8853783 (180)\ttotal: 24.2s\tremaining: 36s\n",
      "400:\tlearn: 4781.6757611\ttest: 4805.4794714\tbest: 4805.4794714 (400)\ttotal: 32.1s\tremaining: 7.93s\n",
      "499:\tlearn: 4760.5157540\ttest: 4787.8947689\tbest: 4787.8919649 (497)\ttotal: 35.5s\tremaining: 0us\n",
      "bestTest = 4787.891965\n",
      "bestIteration = 497\n",
      "24:\tloss: 4787.8919649\tbest: 4533.4654631 (23)\ttotal: 8m 11s\tremaining: 0us\n",
      "Estimating final quality...\n",
      "Training on fold [0/3]\n",
      "0:\tlearn: 20107.4459213\ttest: 20272.9013217\tbest: 20272.9013217 (0)\ttotal: 182ms\tremaining: 1m 30s\n",
      "200:\tlearn: 4576.8461679\ttest: 4884.2831280\tbest: 4884.2305585 (162)\ttotal: 23.1s\tremaining: 34.3s\n",
      "400:\tlearn: 4382.3724868\ttest: 4760.1452591\tbest: 4760.1450476 (364)\ttotal: 32.9s\tremaining: 8.13s\n",
      "499:\tlearn: 4281.5164761\ttest: 4703.3060131\tbest: 4703.3060131 (499)\ttotal: 39.9s\tremaining: 0us\n",
      "bestTest = 4703.306013\n",
      "bestIteration = 499\n",
      "Training on fold [1/3]\n",
      "0:\tlearn: 20197.4041119\ttest: 20091.9724543\tbest: 20091.9724543 (0)\ttotal: 183ms\tremaining: 1m 31s\n",
      "200:\tlearn: 4718.7530747\ttest: 4872.7386797\tbest: 4872.7380598 (189)\ttotal: 21s\tremaining: 31.3s\n",
      "400:\tlearn: 4545.4832490\ttest: 4762.1685375\tbest: 4762.1685375 (397)\ttotal: 31.9s\tremaining: 7.87s\n",
      "499:\tlearn: 4536.6502952\ttest: 4756.1293587\tbest: 4756.1291470 (469)\ttotal: 35s\tremaining: 0us\n",
      "bestTest = 4756.129147\n",
      "bestIteration = 469\n",
      "Training on fold [2/3]\n",
      "0:\tlearn: 20187.2501490\ttest: 20109.9062451\tbest: 20109.9062451 (0)\ttotal: 182ms\tremaining: 1m 30s\n",
      "200:\tlearn: 4639.0726385\ttest: 4811.7450946\tbest: 4811.7446760 (175)\ttotal: 22.3s\tremaining: 33.2s\n",
      "400:\tlearn: 4450.7781946\ttest: 4675.9651295\tbest: 4675.9651295 (400)\ttotal: 33.2s\tremaining: 8.2s\n",
      "499:\tlearn: 4342.6568133\ttest: 4615.2110145\tbest: 4615.2110145 (499)\ttotal: 41.2s\tremaining: 0us\n",
      "bestTest = 4615.211015\n",
      "bestIteration = 499\n",
      "CPU times: total: 13min 36s\n",
      "Wall time: 10min 37s\n"
     ]
    }
   ],
   "source": [
    "%%time\n",
    "\n",
    "grid = {'learning_rate':[0.01, 0.03, 0.05, 0.1, 0.15],\n",
    "        'depth':[2, 4, 6, 8, 10],\n",
    "        'l2_leaf_reg':[1, 3, 5, 7, 9, 11],\n",
    "        'iterations':[150, 250, 500, 750]}\n",
    "\n",
    "cbr_rgs_3 = CatBoostRegressor(task_type='GPU', verbose=200, random_seed=SEED)\n",
    "\n",
    "grid_search_result_3 = cbr_rgs_3.randomized_search(grid,\n",
    "                                        X=train_data,\n",
    "                                        n_iter=25,\n",
    "                                        plot=True)"
   ]
  },
  {
   "cell_type": "code",
   "execution_count": 77,
   "metadata": {},
   "outputs": [
    {
     "name": "stdout",
     "output_type": "stream",
     "text": [
      "------ Train Scores ------\n",
      "R2 Score: 0.9453762482415499\n",
      "Mean Absolute Error: 1831.9639123757026\n",
      "Mean Squared Error: 9150404.958954263\n",
      "Root Mean Squared Error: 3024.9636293605686\n",
      "------ Validation Scores ------\n",
      "R2 Score: 0.9039591609817855\n",
      "Mean Absolute Error: 2199.3688101145754\n",
      "Mean Squared Error: 16003471.9201987\n",
      "Root Mean Squared Error: 4000.4339664839736\n"
     ]
    }
   ],
   "source": [
    "y_pred_train_cbr_rgs_3 = cbr_rgs_3.predict(train_data)\n",
    "y_pred_valid_cbr_rgs_3 = cbr_rgs_3.predict(valid_data)\n",
    "\n",
    "print_scores(y_train, y_valid, y_pred_train_cbr_rgs_3, y_pred_valid_cbr_rgs_3)"
   ]
  },
  {
   "cell_type": "code",
   "execution_count": 78,
   "metadata": {},
   "outputs": [
    {
     "data": {
      "text/plain": [
       "{'depth': 10, 'l2_leaf_reg': 1, 'iterations': 500, 'learning_rate': 0.1}"
      ]
     },
     "execution_count": 78,
     "metadata": {},
     "output_type": "execute_result"
    }
   ],
   "source": [
    "grid_search_result_3['params']"
   ]
  }
 ],
 "metadata": {
  "kernelspec": {
   "display_name": "Python 3.9.12 ('base')",
   "language": "python",
   "name": "python3"
  },
  "language_info": {
   "codemirror_mode": {
    "name": "ipython",
    "version": 3
   },
   "file_extension": ".py",
   "mimetype": "text/x-python",
   "name": "python",
   "nbconvert_exporter": "python",
   "pygments_lexer": "ipython3",
   "version": "3.9.12"
  },
  "orig_nbformat": 4,
  "vscode": {
   "interpreter": {
    "hash": "cd99ff5c8301b556d7792f0edcb24e9d5302d907aa2f960d4943eb484e9ebd3f"
   }
  }
 },
 "nbformat": 4,
 "nbformat_minor": 2
}
